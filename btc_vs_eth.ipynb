{
 "cells": [
  {
   "cell_type": "code",
   "execution_count": 1,
   "metadata": {},
   "outputs": [
    {
     "data": {
      "text/html": [
       "<div><style>\n",
       ".dataframe > thead > tr,\n",
       ".dataframe > tbody > tr {\n",
       "  text-align: right;\n",
       "  white-space: pre-wrap;\n",
       "}\n",
       "</style>\n",
       "<small>shape: (5, 13)</small><table border=\"1\" class=\"dataframe\"><thead><tr><th>date</th><th>open_BTC-USD</th><th>open_ETH-USD</th><th>high_BTC-USD</th><th>high_ETH-USD</th><th>low_BTC-USD</th><th>low_ETH-USD</th><th>close_BTC-USD</th><th>close_ETH-USD</th><th>volume_BTC-USD</th><th>volume_ETH-USD</th><th>vwap_BTC-USD</th><th>vwap_ETH-USD</th></tr><tr><td>date</td><td>f64</td><td>f64</td><td>f64</td><td>f64</td><td>f64</td><td>f64</td><td>f64</td><td>f64</td><td>f64</td><td>f64</td><td>null</td><td>null</td></tr></thead><tbody><tr><td>2020-01-01</td><td>7194.89209</td><td>129.630661</td><td>7254.330566</td><td>132.835358</td><td>7174.944336</td><td>129.198288</td><td>7200.174316</td><td>130.802002</td><td>1.8566e10</td><td>7.9352e9</td><td>null</td><td>null</td></tr><tr><td>2020-01-02</td><td>7202.55127</td><td>130.820038</td><td>7212.155273</td><td>130.820038</td><td>6935.27002</td><td>126.95491</td><td>6985.470215</td><td>127.410179</td><td>2.0802e10</td><td>8.0327e9</td><td>null</td><td>null</td></tr><tr><td>2020-01-03</td><td>6984.428711</td><td>127.411263</td><td>7413.715332</td><td>134.554016</td><td>6914.996094</td><td>126.490021</td><td>7344.884277</td><td>134.171707</td><td>2.8111e10</td><td>1.0477e10</td><td>null</td><td>null</td></tr><tr><td>2020-01-04</td><td>7345.375488</td><td>134.168518</td><td>7427.385742</td><td>136.052719</td><td>7309.51416</td><td>133.040558</td><td>7410.656738</td><td>135.069366</td><td>1.8444e10</td><td>7.4309e9</td><td>null</td><td>null</td></tr><tr><td>2020-01-05</td><td>7410.45166</td><td>135.072098</td><td>7544.49707</td><td>139.410202</td><td>7400.535645</td><td>135.045624</td><td>7411.317383</td><td>136.276779</td><td>1.9725e10</td><td>7.5267e9</td><td>null</td><td>null</td></tr></tbody></table></div>"
      ],
      "text/plain": [
       "shape: (5, 13)\n",
       "┌───────────┬───────────┬───────────┬───────────┬───┬───────────┬───────────┬───────────┬──────────┐\n",
       "│ date      ┆ open_BTC- ┆ open_ETH- ┆ high_BTC- ┆ … ┆ volume_BT ┆ volume_ET ┆ vwap_BTC- ┆ vwap_ETH │\n",
       "│ ---       ┆ USD       ┆ USD       ┆ USD       ┆   ┆ C-USD     ┆ H-USD     ┆ USD       ┆ -USD     │\n",
       "│ date      ┆ ---       ┆ ---       ┆ ---       ┆   ┆ ---       ┆ ---       ┆ ---       ┆ ---      │\n",
       "│           ┆ f64       ┆ f64       ┆ f64       ┆   ┆ f64       ┆ f64       ┆ null      ┆ null     │\n",
       "╞═══════════╪═══════════╪═══════════╪═══════════╪═══╪═══════════╪═══════════╪═══════════╪══════════╡\n",
       "│ 2020-01-0 ┆ 7194.8920 ┆ 129.63066 ┆ 7254.3305 ┆ … ┆ 1.8566e10 ┆ 7.9352e9  ┆ null      ┆ null     │\n",
       "│ 1         ┆ 9         ┆ 1         ┆ 66        ┆   ┆           ┆           ┆           ┆          │\n",
       "│ 2020-01-0 ┆ 7202.5512 ┆ 130.82003 ┆ 7212.1552 ┆ … ┆ 2.0802e10 ┆ 8.0327e9  ┆ null      ┆ null     │\n",
       "│ 2         ┆ 7         ┆ 8         ┆ 73        ┆   ┆           ┆           ┆           ┆          │\n",
       "│ 2020-01-0 ┆ 6984.4287 ┆ 127.41126 ┆ 7413.7153 ┆ … ┆ 2.8111e10 ┆ 1.0477e10 ┆ null      ┆ null     │\n",
       "│ 3         ┆ 11        ┆ 3         ┆ 32        ┆   ┆           ┆           ┆           ┆          │\n",
       "│ 2020-01-0 ┆ 7345.3754 ┆ 134.16851 ┆ 7427.3857 ┆ … ┆ 1.8444e10 ┆ 7.4309e9  ┆ null      ┆ null     │\n",
       "│ 4         ┆ 88        ┆ 8         ┆ 42        ┆   ┆           ┆           ┆           ┆          │\n",
       "│ 2020-01-0 ┆ 7410.4516 ┆ 135.07209 ┆ 7544.4970 ┆ … ┆ 1.9725e10 ┆ 7.5267e9  ┆ null      ┆ null     │\n",
       "│ 5         ┆ 6         ┆ 8         ┆ 7         ┆   ┆           ┆           ┆           ┆          │\n",
       "└───────────┴───────────┴───────────┴───────────┴───┴───────────┴───────────┴───────────┴──────────┘"
      ]
     },
     "execution_count": 1,
     "metadata": {},
     "output_type": "execute_result"
    }
   ],
   "source": [
    "from openbb import obb\n",
    "import polars as pl\n",
    "import datetime as dt\n",
    "import infomeasure as im\n",
    "price = obb.crypto.price.historical(symbol='BTCUSD,ETHUSD', start_date=dt.date(2020, 1, 1))\n",
    "price = pl.DataFrame(map(lambda d: d.model_dump(), price.results)).pivot(on='symbol', index='date')\n",
    "price.head()"
   ]
  },
  {
   "cell_type": "markdown",
   "metadata": {},
   "source": [
    "# WHat is the best pearson correlation ?\n",
    "Pearson is a very naive approach but still our baseline"
   ]
  },
  {
   "cell_type": "code",
   "execution_count": 2,
   "metadata": {},
   "outputs": [
    {
     "data": {
      "text/plain": [
       "([-0.059173672354839245,\n",
       "  0.046484146894598004,\n",
       "  0.006653997702862518,\n",
       "  0.03608722362680497,\n",
       "  -0.0024201838023710166,\n",
       "  0.0031423510855921153,\n",
       "  -0.027702729333123833,\n",
       "  -0.022497152222202967,\n",
       "  0.030570469078559644],)"
      ]
     },
     "execution_count": 2,
     "metadata": {},
     "output_type": "execute_result"
    }
   ],
   "source": [
    "a, b = pl.col(\"open_BTC-USD\").pct_change().fill_null(0.0), pl.col(\"open_ETH-USD\").pct_change().fill_null(0.0)\n",
    "price.select(\n",
    "    #x=pl.concat_arr([chatterjee_corr(a.shift(i), b) for i in range(1, 10)]), \n",
    "    y=pl.concat_arr([pl.corr(a.shift(i), b) for i in range(1, 10)]),\n",
    "    #z=pl.concat_arr([chatterjeexi(a.shift(i), b).statistic for i in range(1, 10)])\n",
    ").row(0)"
   ]
  },
  {
   "cell_type": "code",
   "execution_count": 178,
   "metadata": {},
   "outputs": [
    {
     "data": {
      "text/plain": [
       "[np.float64(0.029392302501231704),\n",
       " np.float64(0.0208056918171481),\n",
       " np.float64(0.011771069610498038),\n",
       " np.float64(0.011345068148582459),\n",
       " np.float64(0.013858167867168557),\n",
       " np.float64(0.01613016698556156),\n",
       " np.float64(0.01967587843790836),\n",
       " np.float64(0.015397100468604546),\n",
       " np.float64(0.010679148003875791),\n",
       " np.float64(0.010115855742073155),\n",
       " np.float64(0.013495316466123335),\n",
       " np.float64(0.011959975156428326),\n",
       " np.float64(0.012436554092852471),\n",
       " np.float64(0.011420646381283426)]"
      ]
     },
     "execution_count": 178,
     "metadata": {},
     "output_type": "execute_result"
    }
   ],
   "source": [
    "[\n",
    "    im.transfer_entropy(\n",
    "        price.get_column(a.meta.output_name()).pct_change().drop_nulls(),\n",
    "        price.get_column(b.meta.output_name()).pct_change().drop_nulls(),\n",
    "        approach='ordinal',\n",
    "        embedding_dim=3,\n",
    "        prop_time=i,\n",
    "        ) for i in range(1, 15)\n",
    "]"
   ]
  },
  {
   "cell_type": "code",
   "execution_count": 183,
   "metadata": {},
   "outputs": [
    {
     "data": {
      "text/plain": [
       "[np.float64(0.25578938461738077),\n",
       " np.float64(0.009277801587318862),\n",
       " np.float64(0.008306391155028833),\n",
       " np.float64(0.006532856571341519),\n",
       " np.float64(0.007839100932980077),\n",
       " np.float64(0.004055099177106107),\n",
       " np.float64(0.006440962204480774),\n",
       " np.float64(0.0063353818959324334),\n",
       " np.float64(0.005902383374356661),\n",
       " np.float64(0.006040709038773462),\n",
       " np.float64(0.005280717361537499),\n",
       " np.float64(0.003887524283383903),\n",
       " np.float64(0.00752529956345855),\n",
       " np.float64(0.01026017254978883)]"
      ]
     },
     "execution_count": 183,
     "metadata": {},
     "output_type": "execute_result"
    }
   ],
   "source": [
    "[\n",
    "    im.mutual_information(\n",
    "        price.get_column(a.meta.output_name()).shift(i).drop_nulls(),\n",
    "        price.get_column(b.meta.output_name()).drop_nulls().slice(i),\n",
    "        approach='ordinal',\n",
    "        embedding_dim=3,\n",
    "        #prop_time=i,\n",
    "        ) for i in range(1, 15)\n",
    "]"
   ]
  },
  {
   "cell_type": "markdown",
   "metadata": {},
   "source": [
    "Let us\n",
    " - compute transfer entropy on a rolling window\n",
    " - do that for every possible lag value\n",
    " - take the arg_max() yielding the best TE"
   ]
  },
  {
   "cell_type": "code",
   "execution_count": 52,
   "metadata": {},
   "outputs": [
    {
     "data": {
      "text/html": [
       "<div><style>\n",
       ".dataframe > thead > tr,\n",
       ".dataframe > tbody > tr {\n",
       "  text-align: right;\n",
       "  white-space: pre-wrap;\n",
       "}\n",
       "</style>\n",
       "<small>shape: (2_105, 2)</small><table border=\"1\" class=\"dataframe\"><thead><tr><th>date</th><th>optimal_alignment_change</th></tr><tr><td>date</td><td>u8</td></tr></thead><tbody><tr><td>2020-01-01</td><td>3</td></tr><tr><td>2020-01-02</td><td>3</td></tr><tr><td>2020-01-03</td><td>3</td></tr><tr><td>2020-01-04</td><td>3</td></tr><tr><td>2020-01-05</td><td>3</td></tr><tr><td>&hellip;</td><td>&hellip;</td></tr><tr><td>2025-10-01</td><td>2</td></tr><tr><td>2025-10-02</td><td>2</td></tr><tr><td>2025-10-03</td><td>2</td></tr><tr><td>2025-10-04</td><td>2</td></tr><tr><td>2025-10-05</td><td>2</td></tr></tbody></table></div>"
      ],
      "text/plain": [
       "shape: (2_105, 2)\n",
       "┌────────────┬──────────────────────────┐\n",
       "│ date       ┆ optimal_alignment_change │\n",
       "│ ---        ┆ ---                      │\n",
       "│ date       ┆ u8                       │\n",
       "╞════════════╪══════════════════════════╡\n",
       "│ 2020-01-01 ┆ 3                        │\n",
       "│ 2020-01-02 ┆ 3                        │\n",
       "│ 2020-01-03 ┆ 3                        │\n",
       "│ 2020-01-04 ┆ 3                        │\n",
       "│ 2020-01-05 ┆ 3                        │\n",
       "│ …          ┆ …                        │\n",
       "│ 2025-10-01 ┆ 2                        │\n",
       "│ 2025-10-02 ┆ 2                        │\n",
       "│ 2025-10-03 ┆ 2                        │\n",
       "│ 2025-10-04 ┆ 2                        │\n",
       "│ 2025-10-05 ┆ 2                        │\n",
       "└────────────┴──────────────────────────┘"
      ]
     },
     "execution_count": 52,
     "metadata": {},
     "output_type": "execute_result"
    }
   ],
   "source": [
    "def optimal_alignment(source: pl.Expr, target: pl.Expr, lags=range(2, 15), period='1q', offset=\"-45d\", min_block_length=10):\n",
    "    assert lags.step > 0\n",
    "    wrap = pl.concat_arr(pl.struct(source, target).rolling('date', period=period, offset=offset).list.eval(pl.element().struct.unnest()))\n",
    "    fn = lambda lag: wrap.map_elements(\n",
    "        lambda x: im.transfer_entropy(x[0], x[1], approach='ordinal', embedding_dim=3, prop_time=lag),\n",
    "        return_dtype=pl.Float64\n",
    "    )\n",
    "    # caompute TE for all lags; small penalty on big lags; i.e we only pick them when TE is much bigger\n",
    "    optimal_lag = pl.concat_list([fn(lag) * (1 - (lag / (lags.stop * 1.2))) for lag in lags]).list.arg_max().add(1)\n",
    "    return optimal_lag.rolling_median(min_block_length).cast(pl.UInt8).backward_fill()\n",
    "\n",
    "final = price.select(\n",
    "    'date', \n",
    "    optimal_alignment_change=optimal_alignment(pl.col(\"open_BTC-USD\").pct_change().fill_null(0.0), pl.col(\"open_ETH-USD\").pct_change().fill_null(0.0)),\n",
    "    #optimal_alignment_raw=optimal_alignment(pl.col(\"open_BTC-USD\").pct_change().fill_null(0.0), pl.col(\"open_ETH-USD\"))\n",
    "    \n",
    ")\n",
    "final\n",
    "#tmp"
   ]
  },
  {
   "cell_type": "markdown",
   "metadata": {},
   "source": [
    "### TODO\n",
    " - test if TE on aligned-source to target yields better TE than the best fix lag \n",
    " - test if this TE is resistant to "
   ]
  }
 ],
 "metadata": {
  "kernelspec": {
   "display_name": "uw",
   "language": "python",
   "name": "python3"
  },
  "language_info": {
   "codemirror_mode": {
    "name": "ipython",
    "version": 3
   },
   "file_extension": ".py",
   "mimetype": "text/x-python",
   "name": "python",
   "nbconvert_exporter": "python",
   "pygments_lexer": "ipython3",
   "version": "3.10.18"
  }
 },
 "nbformat": 4,
 "nbformat_minor": 2
}
