{
 "cells": [
  {
   "cell_type": "code",
   "execution_count": 59,
   "metadata": {},
   "outputs": [],
   "source": [
    "from openbb import obb\n",
    "import altair as alt\n",
    "import datetime as dt\n",
    "import polars as pl\n",
    "import polars.selectors as cs\n",
    "import datetime as dt\n",
    "import infomeasure as im\n",
    "start_date = dt.date(2018, 1, 1)"
   ]
  },
  {
   "cell_type": "code",
   "execution_count": 112,
   "metadata": {},
   "outputs": [
    {
     "data": {
      "text/html": [
       "<div><style>\n",
       ".dataframe > thead > tr,\n",
       ".dataframe > tbody > tr {\n",
       "  text-align: right;\n",
       "  white-space: pre-wrap;\n",
       "}\n",
       "</style>\n",
       "<small>shape: (5, 2)</small><table border=\"1\" class=\"dataframe\"><thead><tr><th>date</th><th>price_DCOILWTICO</th></tr><tr><td>str</td><td>f64</td></tr></thead><tbody><tr><td>&quot;2018-01&quot;</td><td>63.698571</td></tr><tr><td>&quot;2018-02&quot;</td><td>62.229474</td></tr><tr><td>&quot;2018-03&quot;</td><td>62.724762</td></tr><tr><td>&quot;2018-04&quot;</td><td>66.25381</td></tr><tr><td>&quot;2018-05&quot;</td><td>69.978182</td></tr></tbody></table></div>"
      ],
      "text/plain": [
       "shape: (5, 2)\n",
       "┌─────────┬──────────────────┐\n",
       "│ date    ┆ price_DCOILWTICO │\n",
       "│ ---     ┆ ---              │\n",
       "│ str     ┆ f64              │\n",
       "╞═════════╪══════════════════╡\n",
       "│ 2018-01 ┆ 63.698571        │\n",
       "│ 2018-02 ┆ 62.229474        │\n",
       "│ 2018-03 ┆ 62.724762        │\n",
       "│ 2018-04 ┆ 66.25381         │\n",
       "│ 2018-05 ┆ 69.978182        │\n",
       "└─────────┴──────────────────┘"
      ]
     },
     "execution_count": 112,
     "metadata": {},
     "output_type": "execute_result"
    }
   ],
   "source": [
    "wti = obb.commodity.price.spot(provider='fred', commodity='wti', start_date=start_date)\n",
    "wti = pl.DataFrame(map(lambda d: d.model_dump(), wti.results)).pivot(on='symbol', index='date')\n",
    "# cpi is released once a month, downcast wti to a monthly aggregate to allow analysis\n",
    "wti = wti.group_by(pl.col.date.dt.strftime(\"%Y-%m\"), maintain_order=True).agg(cs.numeric().mean())\n",
    "wti.head()"
   ]
  },
  {
   "cell_type": "code",
   "execution_count": 113,
   "metadata": {},
   "outputs": [
    {
     "data": {
      "text/html": [
       "<div><style>\n",
       ".dataframe > thead > tr,\n",
       ".dataframe > tbody > tr {\n",
       "  text-align: right;\n",
       "  white-space: pre-wrap;\n",
       "}\n",
       "</style>\n",
       "<small>shape: (5, 4)</small><table border=\"1\" class=\"dataframe\"><thead><tr><th>date</th><th>france_cpi</th><th>japan_cpi</th><th>united_states_cpi</th></tr><tr><td>str</td><td>f64</td><td>f64</td><td>f64</td></tr></thead><tbody><tr><td>&quot;2018-01&quot;</td><td>0.013345</td><td>0.014</td><td>0.020705</td></tr><tr><td>&quot;2018-02&quot;</td><td>0.011837</td><td>0.015</td><td>0.022118</td></tr><tr><td>&quot;2018-03&quot;</td><td>0.015617</td><td>0.011</td><td>0.023597</td></tr><tr><td>&quot;2018-04&quot;</td><td>0.016393</td><td>0.006</td><td>0.024627</td></tr><tr><td>&quot;2018-05&quot;</td><td>0.020235</td><td>0.007</td><td>0.02801</td></tr></tbody></table></div>"
      ],
      "text/plain": [
       "shape: (5, 4)\n",
       "┌─────────┬────────────┬───────────┬───────────────────┐\n",
       "│ date    ┆ france_cpi ┆ japan_cpi ┆ united_states_cpi │\n",
       "│ ---     ┆ ---        ┆ ---       ┆ ---               │\n",
       "│ str     ┆ f64        ┆ f64       ┆ f64               │\n",
       "╞═════════╪════════════╪═══════════╪═══════════════════╡\n",
       "│ 2018-01 ┆ 0.013345   ┆ 0.014     ┆ 0.020705          │\n",
       "│ 2018-02 ┆ 0.011837   ┆ 0.015     ┆ 0.022118          │\n",
       "│ 2018-03 ┆ 0.015617   ┆ 0.011     ┆ 0.023597          │\n",
       "│ 2018-04 ┆ 0.016393   ┆ 0.006     ┆ 0.024627          │\n",
       "│ 2018-05 ┆ 0.020235   ┆ 0.007     ┆ 0.02801           │\n",
       "└─────────┴────────────┴───────────┴───────────────────┘"
      ]
     },
     "execution_count": 113,
     "metadata": {},
     "output_type": "execute_result"
    }
   ],
   "source": [
    "cpi = obb.economy.cpi(country='japan,united_states,france', provider='fred', start_date=start_date)\n",
    "cpi = pl.DataFrame(map(lambda d: d.model_dump(), cpi.results)).pivot(on='country', index='date')\n",
    "cpi = cpi.select('date', pl.exclude('date').name.suffix('_cpi'))\n",
    "\n",
    "# do the same as for wti\n",
    "cpi = cpi.group_by(pl.col.date.dt.strftime(\"%Y-%m\"), maintain_order=True).agg(cs.numeric().mean())\n",
    "cpi.head()"
   ]
  },
  {
   "cell_type": "code",
   "execution_count": 116,
   "metadata": {},
   "outputs": [
    {
     "name": "stdout",
     "output_type": "stream",
     "text": [
      "(42, 5)\n"
     ]
    },
    {
     "data": {
      "text/html": [
       "<div><style>\n",
       ".dataframe > thead > tr,\n",
       ".dataframe > tbody > tr {\n",
       "  text-align: right;\n",
       "  white-space: pre-wrap;\n",
       "}\n",
       "</style>\n",
       "<small>shape: (5, 5)</small><table border=\"1\" class=\"dataframe\"><thead><tr><th>price_DCOILWTICO</th><th>date</th><th>france_cpi</th><th>japan_cpi</th><th>united_states_cpi</th></tr><tr><td>f64</td><td>str</td><td>f64</td><td>f64</td><td>f64</td></tr></thead><tbody><tr><td>63.698571</td><td>&quot;2018-01&quot;</td><td>0.013345</td><td>0.014</td><td>0.020705</td></tr><tr><td>62.229474</td><td>&quot;2018-02&quot;</td><td>0.011837</td><td>0.015</td><td>0.022118</td></tr><tr><td>62.724762</td><td>&quot;2018-03&quot;</td><td>0.015617</td><td>0.011</td><td>0.023597</td></tr><tr><td>66.25381</td><td>&quot;2018-04&quot;</td><td>0.016393</td><td>0.006</td><td>0.024627</td></tr><tr><td>69.978182</td><td>&quot;2018-05&quot;</td><td>0.020235</td><td>0.007</td><td>0.02801</td></tr></tbody></table></div>"
      ],
      "text/plain": [
       "shape: (5, 5)\n",
       "┌──────────────────┬─────────┬────────────┬───────────┬───────────────────┐\n",
       "│ price_DCOILWTICO ┆ date    ┆ france_cpi ┆ japan_cpi ┆ united_states_cpi │\n",
       "│ ---              ┆ ---     ┆ ---        ┆ ---       ┆ ---               │\n",
       "│ f64              ┆ str     ┆ f64        ┆ f64       ┆ f64               │\n",
       "╞══════════════════╪═════════╪════════════╪═══════════╪═══════════════════╡\n",
       "│ 63.698571        ┆ 2018-01 ┆ 0.013345   ┆ 0.014     ┆ 0.020705          │\n",
       "│ 62.229474        ┆ 2018-02 ┆ 0.011837   ┆ 0.015     ┆ 0.022118          │\n",
       "│ 62.724762        ┆ 2018-03 ┆ 0.015617   ┆ 0.011     ┆ 0.023597          │\n",
       "│ 66.25381         ┆ 2018-04 ┆ 0.016393   ┆ 0.006     ┆ 0.024627          │\n",
       "│ 69.978182        ┆ 2018-05 ┆ 0.020235   ┆ 0.007     ┆ 0.02801           │\n",
       "└──────────────────┴─────────┴────────────┴───────────┴───────────────────┘"
      ]
     },
     "execution_count": 116,
     "metadata": {},
     "output_type": "execute_result"
    }
   ],
   "source": [
    "df = wti.join(cpi, on='date', how=\"right\").drop_nulls(subset='^.*cpi$')\n",
    "print(df.shape)\n",
    "df.head()"
   ]
  },
  {
   "cell_type": "code",
   "execution_count": 117,
   "metadata": {},
   "outputs": [
    {
     "data": {
      "text/html": [
       "<div><style>\n",
       ".dataframe > thead > tr,\n",
       ".dataframe > tbody > tr {\n",
       "  text-align: right;\n",
       "  white-space: pre-wrap;\n",
       "}\n",
       "</style>\n",
       "<small>shape: (9, 6)</small><table border=\"1\" class=\"dataframe\"><thead><tr><th>statistic</th><th>price_DCOILWTICO</th><th>date</th><th>france_cpi</th><th>japan_cpi</th><th>united_states_cpi</th></tr><tr><td>str</td><td>f64</td><td>str</td><td>f64</td><td>f64</td><td>f64</td></tr></thead><tbody><tr><td>&quot;count&quot;</td><td>42.0</td><td>&quot;42&quot;</td><td>42.0</td><td>42.0</td><td>42.0</td></tr><tr><td>&quot;null_count&quot;</td><td>0.0</td><td>&quot;0&quot;</td><td>0.0</td><td>0.0</td><td>0.0</td></tr><tr><td>&quot;mean&quot;</td><td>54.890751</td><td>null</td><td>0.011341</td><td>0.00319</td><td>0.020508</td></tr><tr><td>&quot;std&quot;</td><td>12.654947</td><td>null</td><td>0.006455</td><td>0.006794</td><td>0.010213</td></tr><tr><td>&quot;min&quot;</td><td>16.547619</td><td>&quot;2018-01&quot;</td><td>-0.000191</td><td>-0.012</td><td>0.001179</td></tr><tr><td>&quot;25%&quot;</td><td>49.522778</td><td>null</td><td>0.006738</td><td>0.001</td><td>0.015201</td></tr><tr><td>&quot;50%&quot;</td><td>57.358095</td><td>null</td><td>0.011837</td><td>0.004</td><td>0.019102</td></tr><tr><td>&quot;75%&quot;</td><td>63.698571</td><td>null</td><td>0.014853</td><td>0.007</td><td>0.024627</td></tr><tr><td>&quot;max&quot;</td><td>71.378182</td><td>&quot;2021-06&quot;</td><td>0.022878</td><td>0.015</td><td>0.053915</td></tr></tbody></table></div>"
      ],
      "text/plain": [
       "shape: (9, 6)\n",
       "┌────────────┬──────────────────┬─────────┬────────────┬───────────┬───────────────────┐\n",
       "│ statistic  ┆ price_DCOILWTICO ┆ date    ┆ france_cpi ┆ japan_cpi ┆ united_states_cpi │\n",
       "│ ---        ┆ ---              ┆ ---     ┆ ---        ┆ ---       ┆ ---               │\n",
       "│ str        ┆ f64              ┆ str     ┆ f64        ┆ f64       ┆ f64               │\n",
       "╞════════════╪══════════════════╪═════════╪════════════╪═══════════╪═══════════════════╡\n",
       "│ count      ┆ 42.0             ┆ 42      ┆ 42.0       ┆ 42.0      ┆ 42.0              │\n",
       "│ null_count ┆ 0.0              ┆ 0       ┆ 0.0        ┆ 0.0       ┆ 0.0               │\n",
       "│ mean       ┆ 54.890751        ┆ null    ┆ 0.011341   ┆ 0.00319   ┆ 0.020508          │\n",
       "│ std        ┆ 12.654947        ┆ null    ┆ 0.006455   ┆ 0.006794  ┆ 0.010213          │\n",
       "│ min        ┆ 16.547619        ┆ 2018-01 ┆ -0.000191  ┆ -0.012    ┆ 0.001179          │\n",
       "│ 25%        ┆ 49.522778        ┆ null    ┆ 0.006738   ┆ 0.001     ┆ 0.015201          │\n",
       "│ 50%        ┆ 57.358095        ┆ null    ┆ 0.011837   ┆ 0.004     ┆ 0.019102          │\n",
       "│ 75%        ┆ 63.698571        ┆ null    ┆ 0.014853   ┆ 0.007     ┆ 0.024627          │\n",
       "│ max        ┆ 71.378182        ┆ 2021-06 ┆ 0.022878   ┆ 0.015     ┆ 0.053915          │\n",
       "└────────────┴──────────────────┴─────────┴────────────┴───────────┴───────────────────┘"
      ]
     },
     "execution_count": 117,
     "metadata": {},
     "output_type": "execute_result"
    }
   ],
   "source": [
    "df.describe()"
   ]
  },
  {
   "cell_type": "code",
   "execution_count": 123,
   "metadata": {},
   "outputs": [
    {
     "data": {
      "text/html": [
       "<div><style>\n",
       ".dataframe > thead > tr,\n",
       ".dataframe > tbody > tr {\n",
       "  text-align: right;\n",
       "  white-space: pre-wrap;\n",
       "}\n",
       "</style>\n",
       "<small>shape: (42, 3)</small><table border=\"1\" class=\"dataframe\"><thead><tr><th>france_cpi</th><th>japan_cpi</th><th>united_states_cpi</th></tr><tr><td>f64</td><td>f64</td><td>f64</td></tr></thead><tbody><tr><td>null</td><td>null</td><td>null</td></tr><tr><td>-0.113</td><td>0.071429</td><td>0.068238</td></tr><tr><td>0.319332</td><td>-0.266667</td><td>0.066876</td></tr><tr><td>0.049699</td><td>-0.454545</td><td>0.043663</td></tr><tr><td>0.23433</td><td>0.166667</td><td>0.137354</td></tr><tr><td>&hellip;</td><td>&hellip;</td><td>&hellip;</td></tr><tr><td>0.017339</td><td>-0.285714</td><td>0.197493</td></tr><tr><td>0.964974</td><td>-0.2</td><td>0.562903</td></tr><tr><td>0.121011</td><td>1.75</td><td>0.587814</td></tr><tr><td>0.144512</td><td>-0.272727</td><td>0.200258</td></tr><tr><td>0.039474</td><td>-0.375</td><td>0.079865</td></tr></tbody></table></div>"
      ],
      "text/plain": [
       "shape: (42, 3)\n",
       "┌────────────┬───────────┬───────────────────┐\n",
       "│ france_cpi ┆ japan_cpi ┆ united_states_cpi │\n",
       "│ ---        ┆ ---       ┆ ---               │\n",
       "│ f64        ┆ f64       ┆ f64               │\n",
       "╞════════════╪═══════════╪═══════════════════╡\n",
       "│ null       ┆ null      ┆ null              │\n",
       "│ -0.113     ┆ 0.071429  ┆ 0.068238          │\n",
       "│ 0.319332   ┆ -0.266667 ┆ 0.066876          │\n",
       "│ 0.049699   ┆ -0.454545 ┆ 0.043663          │\n",
       "│ 0.23433    ┆ 0.166667  ┆ 0.137354          │\n",
       "│ …          ┆ …         ┆ …                 │\n",
       "│ 0.017339   ┆ -0.285714 ┆ 0.197493          │\n",
       "│ 0.964974   ┆ -0.2      ┆ 0.562903          │\n",
       "│ 0.121011   ┆ 1.75      ┆ 0.587814          │\n",
       "│ 0.144512   ┆ -0.272727 ┆ 0.200258          │\n",
       "│ 0.039474   ┆ -0.375    ┆ 0.079865          │\n",
       "└────────────┴───────────┴───────────────────┘"
      ]
     },
     "execution_count": 123,
     "metadata": {},
     "output_type": "execute_result"
    }
   ],
   "source": [
    "df.select(cs.matches(\"^.*cpi$\").pct_change())"
   ]
  },
  {
   "cell_type": "code",
   "execution_count": 128,
   "metadata": {},
   "outputs": [
    {
     "data": {
      "text/html": [
       "<div><style>\n",
       ".dataframe > thead > tr,\n",
       ".dataframe > tbody > tr {\n",
       "  text-align: right;\n",
       "  white-space: pre-wrap;\n",
       "}\n",
       "</style>\n",
       "<small>shape: (42, 3)</small><table border=\"1\" class=\"dataframe\"><thead><tr><th>france_cpi</th><th>japan_cpi</th><th>united_states_cpi</th></tr><tr><td>f64</td><td>f64</td><td>f64</td></tr></thead><tbody><tr><td>null</td><td>null</td><td>null</td></tr><tr><td>-0.113</td><td>0.071429</td><td>0.068238</td></tr><tr><td>0.319332</td><td>-0.266667</td><td>0.066876</td></tr><tr><td>0.049699</td><td>-0.454545</td><td>0.043663</td></tr><tr><td>0.23433</td><td>0.166667</td><td>0.137354</td></tr><tr><td>&hellip;</td><td>&hellip;</td><td>&hellip;</td></tr><tr><td>0.017339</td><td>-0.285714</td><td>0.197493</td></tr><tr><td>0.964974</td><td>-0.2</td><td>0.562903</td></tr><tr><td>0.121011</td><td>1.75</td><td>0.587814</td></tr><tr><td>0.144512</td><td>-0.272727</td><td>0.200258</td></tr><tr><td>0.039474</td><td>-0.375</td><td>0.079865</td></tr></tbody></table></div>"
      ],
      "text/plain": [
       "shape: (42, 3)\n",
       "┌────────────┬───────────┬───────────────────┐\n",
       "│ france_cpi ┆ japan_cpi ┆ united_states_cpi │\n",
       "│ ---        ┆ ---       ┆ ---               │\n",
       "│ f64        ┆ f64       ┆ f64               │\n",
       "╞════════════╪═══════════╪═══════════════════╡\n",
       "│ null       ┆ null      ┆ null              │\n",
       "│ -0.113     ┆ 0.071429  ┆ 0.068238          │\n",
       "│ 0.319332   ┆ -0.266667 ┆ 0.066876          │\n",
       "│ 0.049699   ┆ -0.454545 ┆ 0.043663          │\n",
       "│ 0.23433    ┆ 0.166667  ┆ 0.137354          │\n",
       "│ …          ┆ …         ┆ …                 │\n",
       "│ 0.017339   ┆ -0.285714 ┆ 0.197493          │\n",
       "│ 0.964974   ┆ -0.2      ┆ 0.562903          │\n",
       "│ 0.121011   ┆ 1.75      ┆ 0.587814          │\n",
       "│ 0.144512   ┆ -0.272727 ┆ 0.200258          │\n",
       "│ 0.039474   ┆ -0.375    ┆ 0.079865          │\n",
       "└────────────┴───────────┴───────────────────┘"
      ]
     },
     "execution_count": 128,
     "metadata": {},
     "output_type": "execute_result"
    }
   ],
   "source": [
    "df.select(cs.matches(\"^.*cpi$\").pct_change())"
   ]
  },
  {
   "cell_type": "code",
   "execution_count": 129,
   "metadata": {},
   "outputs": [
    {
     "data": {
      "text/html": [
       "\n",
       "<style>\n",
       "  #altair-viz-1fb1419b8eca4bc181d1d50ea30aa1d1.vega-embed {\n",
       "    width: 100%;\n",
       "    display: flex;\n",
       "  }\n",
       "\n",
       "  #altair-viz-1fb1419b8eca4bc181d1d50ea30aa1d1.vega-embed details,\n",
       "  #altair-viz-1fb1419b8eca4bc181d1d50ea30aa1d1.vega-embed details summary {\n",
       "    position: relative;\n",
       "  }\n",
       "</style>\n",
       "<div id=\"altair-viz-1fb1419b8eca4bc181d1d50ea30aa1d1\"></div>\n",
       "<script type=\"text/javascript\">\n",
       "  var VEGA_DEBUG = (typeof VEGA_DEBUG == \"undefined\") ? {} : VEGA_DEBUG;\n",
       "  (function(spec, embedOpt){\n",
       "    let outputDiv = document.currentScript.previousElementSibling;\n",
       "    if (outputDiv.id !== \"altair-viz-1fb1419b8eca4bc181d1d50ea30aa1d1\") {\n",
       "      outputDiv = document.getElementById(\"altair-viz-1fb1419b8eca4bc181d1d50ea30aa1d1\");\n",
       "    }\n",
       "\n",
       "    const paths = {\n",
       "      \"vega\": \"https://cdn.jsdelivr.net/npm/vega@5?noext\",\n",
       "      \"vega-lib\": \"https://cdn.jsdelivr.net/npm/vega-lib?noext\",\n",
       "      \"vega-lite\": \"https://cdn.jsdelivr.net/npm/vega-lite@5.20.1?noext\",\n",
       "      \"vega-embed\": \"https://cdn.jsdelivr.net/npm/vega-embed@6?noext\",\n",
       "    };\n",
       "\n",
       "    function maybeLoadScript(lib, version) {\n",
       "      var key = `${lib.replace(\"-\", \"\")}_version`;\n",
       "      return (VEGA_DEBUG[key] == version) ?\n",
       "        Promise.resolve(paths[lib]) :\n",
       "        new Promise(function(resolve, reject) {\n",
       "          var s = document.createElement('script');\n",
       "          document.getElementsByTagName(\"head\")[0].appendChild(s);\n",
       "          s.async = true;\n",
       "          s.onload = () => {\n",
       "            VEGA_DEBUG[key] = version;\n",
       "            return resolve(paths[lib]);\n",
       "          };\n",
       "          s.onerror = () => reject(`Error loading script: ${paths[lib]}`);\n",
       "          s.src = paths[lib];\n",
       "        });\n",
       "    }\n",
       "\n",
       "    function showError(err) {\n",
       "      outputDiv.innerHTML = `<div class=\"error\" style=\"color:red;\">${err}</div>`;\n",
       "      throw err;\n",
       "    }\n",
       "\n",
       "    function displayChart(vegaEmbed) {\n",
       "      vegaEmbed(outputDiv, spec, embedOpt)\n",
       "        .catch(err => showError(`Javascript Error: ${err.message}<br>This usually means there's a typo in your chart specification. See the javascript console for the full traceback.`));\n",
       "    }\n",
       "\n",
       "    if(typeof define === \"function\" && define.amd) {\n",
       "      requirejs.config({paths});\n",
       "      let deps = [\"vega-embed\"];\n",
       "      require(deps, displayChart, err => showError(`Error loading script: ${err.message}`));\n",
       "    } else {\n",
       "      maybeLoadScript(\"vega\", \"5\")\n",
       "        .then(() => maybeLoadScript(\"vega-lite\", \"5.20.1\"))\n",
       "        .then(() => maybeLoadScript(\"vega-embed\", \"6\"))\n",
       "        .catch(showError)\n",
       "        .then(() => displayChart(vegaEmbed));\n",
       "    }\n",
       "  })({\"config\": {\"view\": {\"continuousWidth\": 300, \"continuousHeight\": 300}}, \"data\": {\"name\": \"data-823c38647d8309610baeea132dc18ea2\"}, \"mark\": {\"type\": \"line\", \"tooltip\": true}, \"encoding\": {\"color\": {\"field\": \"variable\", \"type\": \"nominal\"}, \"x\": {\"field\": \"date\", \"type\": \"nominal\"}, \"y\": {\"field\": \"value\", \"type\": \"quantitative\"}}, \"params\": [{\"name\": \"param_36\", \"select\": {\"type\": \"interval\", \"encodings\": [\"x\", \"y\"]}, \"bind\": \"scales\"}], \"title\": \"\", \"width\": 1000, \"$schema\": \"https://vega.github.io/schema/vega-lite/v5.20.1.json\", \"datasets\": {\"data-823c38647d8309610baeea132dc18ea2\": [{\"date\": \"2018-01\", \"variable\": \"price_DCOILWTICO\", \"value\": null}, {\"date\": \"2018-02\", \"variable\": \"price_DCOILWTICO\", \"value\": -0.023063276167947944}, {\"date\": \"2018-03\", \"variable\": \"price_DCOILWTICO\", \"value\": 0.00795906169903917}, {\"date\": \"2018-04\", \"variable\": \"price_DCOILWTICO\", \"value\": 0.05626243148449015}, {\"date\": \"2018-05\", \"variable\": \"price_DCOILWTICO\", \"value\": 0.05621370787794271}, {\"date\": \"2018-06\", \"variable\": \"price_DCOILWTICO\", \"value\": -0.030078639229543267}, {\"date\": \"2018-07\", \"variable\": \"price_DCOILWTICO\", \"value\": 0.04579258282234425}, {\"date\": \"2018-08\", \"variable\": \"price_DCOILWTICO\", \"value\": -0.04121889987845661}, {\"date\": \"2018-09\", \"variable\": \"price_DCOILWTICO\", \"value\": 0.031980489786256616}, {\"date\": \"2018-10\", \"variable\": \"price_DCOILWTICO\", \"value\": 0.007355473498627891}, {\"date\": \"2018-11\", \"variable\": \"price_DCOILWTICO\", \"value\": -0.19484734700900921}, {\"date\": \"2018-12\", \"variable\": \"price_DCOILWTICO\", \"value\": -0.13062263067090718}, {\"date\": \"2019-01\", \"variable\": \"price_DCOILWTICO\", \"value\": 0.03741584359930584}, {\"date\": \"2019-02\", \"variable\": \"price_DCOILWTICO\", \"value\": 0.06966370407011893}, {\"date\": \"2019-03\", \"variable\": \"price_DCOILWTICO\", \"value\": 0.05816953938853295}, {\"date\": \"2019-04\", \"variable\": \"price_DCOILWTICO\", \"value\": 0.09820829034212793}, {\"date\": \"2019-05\", \"variable\": \"price_DCOILWTICO\", \"value\": -0.047532878124701194}, {\"date\": \"2019-06\", \"variable\": \"price_DCOILWTICO\", \"value\": -0.10142431194374484}, {\"date\": \"2019-07\", \"variable\": \"price_DCOILWTICO\", \"value\": 0.04940941751992348}, {\"date\": \"2019-08\", \"variable\": \"price_DCOILWTICO\", \"value\": -0.044495657266719384}, {\"date\": \"2019-09\", \"variable\": \"price_DCOILWTICO\", \"value\": 0.03906678941388186}, {\"date\": \"2019-10\", \"variable\": \"price_DCOILWTICO\", \"value\": -0.05239883614130927}, {\"date\": \"2019-11\", \"variable\": \"price_DCOILWTICO\", \"value\": 0.05718550495402211}, {\"date\": \"2019-12\", \"variable\": \"price_DCOILWTICO\", \"value\": 0.04851481799255184}, {\"date\": \"2020-01\", \"variable\": \"price_DCOILWTICO\", \"value\": -0.03841101779246115}, {\"date\": \"2020-02\", \"variable\": \"price_DCOILWTICO\", \"value\": -0.12128879612725006}, {\"date\": \"2020-03\", \"variable\": \"price_DCOILWTICO\", \"value\": -0.4221170057774904}, {\"date\": \"2020-04\", \"variable\": \"price_DCOILWTICO\", \"value\": -0.43345064499179986}, {\"date\": \"2020-05\", \"variable\": \"price_DCOILWTICO\", \"value\": 0.7260791366906476}, {\"date\": \"2020-06\", \"variable\": \"price_DCOILWTICO\", \"value\": 0.34117366222399004}, {\"date\": \"2020-07\", \"variable\": \"price_DCOILWTICO\", \"value\": 0.06273434904361885}, {\"date\": \"2020-08\", \"variable\": \"price_DCOILWTICO\", \"value\": 0.04000429599170132}, {\"date\": \"2020-09\", \"variable\": \"price_DCOILWTICO\", \"value\": -0.0638833903185173}, {\"date\": \"2020-10\", \"variable\": \"price_DCOILWTICO\", \"value\": -0.006014404424871206}, {\"date\": \"2020-11\", \"variable\": \"price_DCOILWTICO\", \"value\": 0.039127395856927746}, {\"date\": \"2020-12\", \"variable\": \"price_DCOILWTICO\", \"value\": 0.14870598218073763}, {\"date\": \"2021-01\", \"variable\": \"price_DCOILWTICO\", \"value\": 0.10597386608466956}, {\"date\": \"2021-02\", \"variable\": \"price_DCOILWTICO\", \"value\": 0.1353222150259069}, {\"date\": \"2021-03\", \"variable\": \"price_DCOILWTICO\", \"value\": 0.05566355232908728}, {\"date\": \"2021-04\", \"variable\": \"price_DCOILWTICO\", \"value\": -0.009888444029035206}, {\"date\": \"2021-05\", \"variable\": \"price_DCOILWTICO\", \"value\": 0.055946529840670035}, {\"date\": \"2021-06\", \"variable\": \"price_DCOILWTICO\", \"value\": 0.09526974763013067}, {\"date\": \"2018-01\", \"variable\": \"france_cpi\", \"value\": 0.1334528}, {\"date\": \"2018-02\", \"variable\": \"france_cpi\", \"value\": 0.11837260000000001}, {\"date\": \"2018-03\", \"variable\": \"france_cpi\", \"value\": 0.1561728}, {\"date\": \"2018-04\", \"variable\": \"france_cpi\", \"value\": 0.16393439999999998}, {\"date\": \"2018-05\", \"variable\": \"france_cpi\", \"value\": 0.20234919999999995}, {\"date\": \"2018-06\", \"variable\": \"france_cpi\", \"value\": 0.20232930000000005}, {\"date\": \"2018-07\", \"variable\": \"france_cpi\", \"value\": 0.2287808}, {\"date\": \"2018-08\", \"variable\": \"france_cpi\", \"value\": 0.225638}, {\"date\": \"2018-09\", \"variable\": \"france_cpi\", \"value\": 0.22007300000000002}, {\"date\": \"2018-10\", \"variable\": \"france_cpi\", \"value\": 0.220842}, {\"date\": \"2018-11\", \"variable\": \"france_cpi\", \"value\": 0.18910669999999996}, {\"date\": \"2018-12\", \"variable\": \"france_cpi\", \"value\": 0.1590574}, {\"date\": \"2019-01\", \"variable\": \"france_cpi\", \"value\": 0.1238329}, {\"date\": \"2019-02\", \"variable\": \"france_cpi\", \"value\": 0.1317342}, {\"date\": \"2019-03\", \"variable\": \"france_cpi\", \"value\": 0.11094889999999999}, {\"date\": \"2019-04\", \"variable\": \"france_cpi\", \"value\": 0.1263117}, {\"date\": \"2019-05\", \"variable\": \"france_cpi\", \"value\": 0.09384674999999998}, {\"date\": \"2019-06\", \"variable\": \"france_cpi\", \"value\": 0.1170552}, {\"date\": \"2019-07\", \"variable\": \"france_cpi\", \"value\": 0.1065066}, {\"date\": \"2019-08\", \"variable\": \"france_cpi\", \"value\": 0.10406629999999999}, {\"date\": \"2019-09\", \"variable\": \"france_cpi\", \"value\": 0.09076864000000001}, {\"date\": \"2019-10\", \"variable\": \"france_cpi\", \"value\": 0.07620334}, {\"date\": \"2019-11\", \"variable\": \"france_cpi\", \"value\": 0.10343160000000001}, {\"date\": \"2019-12\", \"variable\": \"france_cpi\", \"value\": 0.145936}, {\"date\": \"2020-01\", \"variable\": \"france_cpi\", \"value\": 0.1485293}, {\"date\": \"2020-02\", \"variable\": \"france_cpi\", \"value\": 0.14263540000000002}, {\"date\": \"2020-03\", \"variable\": \"france_cpi\", \"value\": 0.06737896}, {\"date\": \"2020-04\", \"variable\": \"france_cpi\", \"value\": 0.0326233}, {\"date\": \"2020-05\", \"variable\": \"france_cpi\", \"value\": 0.036422890000000006}, {\"date\": \"2020-06\", \"variable\": \"france_cpi\", \"value\": 0.020080320000000002}, {\"date\": \"2020-07\", \"variable\": \"france_cpi\", \"value\": 0.07760108}, {\"date\": \"2020-08\", \"variable\": \"france_cpi\", \"value\": 0.021934009999999997}, {\"date\": \"2020-09\", \"variable\": \"france_cpi\", \"value\": 0.004784689000000001}, {\"date\": \"2020-10\", \"variable\": \"france_cpi\", \"value\": 0.004786520999999999}, {\"date\": \"2020-11\", \"variable\": \"france_cpi\", \"value\": 0.02009185}, {\"date\": \"2020-12\", \"variable\": \"france_cpi\", \"value\": -0.0019051249999999997}, {\"date\": \"2021-01\", \"variable\": \"france_cpi\", \"value\": 0.05548115}, {\"date\": \"2021-02\", \"variable\": \"france_cpi\", \"value\": 0.056443129999999994}, {\"date\": \"2021-03\", \"variable\": \"france_cpi\", \"value\": 0.1109093}, {\"date\": \"2021-04\", \"variable\": \"france_cpi\", \"value\": 0.1243305}, {\"date\": \"2021-05\", \"variable\": \"france_cpi\", \"value\": 0.1422978}, {\"date\": \"2021-06\", \"variable\": \"france_cpi\", \"value\": 0.14791490000000002}, {\"date\": \"2018-01\", \"variable\": \"japan_cpi\", \"value\": 0.13999999999999999}, {\"date\": \"2018-02\", \"variable\": \"japan_cpi\", \"value\": 0.15}, {\"date\": \"2018-03\", \"variable\": \"japan_cpi\", \"value\": 0.11000000000000001}, {\"date\": \"2018-04\", \"variable\": \"japan_cpi\", \"value\": 0.06}, {\"date\": \"2018-05\", \"variable\": \"japan_cpi\", \"value\": 0.06999999999999999}, {\"date\": \"2018-06\", \"variable\": \"japan_cpi\", \"value\": 0.06999999999999999}, {\"date\": \"2018-07\", \"variable\": \"japan_cpi\", \"value\": 0.09000000000000001}, {\"date\": \"2018-08\", \"variable\": \"japan_cpi\", \"value\": 0.13}, {\"date\": \"2018-09\", \"variable\": \"japan_cpi\", \"value\": 0.12}, {\"date\": \"2018-10\", \"variable\": \"japan_cpi\", \"value\": 0.13999999999999999}, {\"date\": \"2018-11\", \"variable\": \"japan_cpi\", \"value\": 0.08}, {\"date\": \"2018-12\", \"variable\": \"japan_cpi\", \"value\": 0.03}, {\"date\": \"2019-01\", \"variable\": \"japan_cpi\", \"value\": 0.02}, {\"date\": \"2019-02\", \"variable\": \"japan_cpi\", \"value\": 0.02}, {\"date\": \"2019-03\", \"variable\": \"japan_cpi\", \"value\": 0.05}, {\"date\": \"2019-04\", \"variable\": \"japan_cpi\", \"value\": 0.09000000000000001}, {\"date\": \"2019-05\", \"variable\": \"japan_cpi\", \"value\": 0.06999999999999999}, {\"date\": \"2019-06\", \"variable\": \"japan_cpi\", \"value\": 0.06999999999999999}, {\"date\": \"2019-07\", \"variable\": \"japan_cpi\", \"value\": 0.05}, {\"date\": \"2019-08\", \"variable\": \"japan_cpi\", \"value\": 0.03}, {\"date\": \"2019-09\", \"variable\": \"japan_cpi\", \"value\": 0.02}, {\"date\": \"2019-10\", \"variable\": \"japan_cpi\", \"value\": 0.02}, {\"date\": \"2019-11\", \"variable\": \"japan_cpi\", \"value\": 0.05}, {\"date\": \"2019-12\", \"variable\": \"japan_cpi\", \"value\": 0.08}, {\"date\": \"2020-01\", \"variable\": \"japan_cpi\", \"value\": 0.06999999999999999}, {\"date\": \"2020-02\", \"variable\": \"japan_cpi\", \"value\": 0.04}, {\"date\": \"2020-03\", \"variable\": \"japan_cpi\", \"value\": 0.04}, {\"date\": \"2020-04\", \"variable\": \"japan_cpi\", \"value\": 0.01}, {\"date\": \"2020-05\", \"variable\": \"japan_cpi\", \"value\": 0.01}, {\"date\": \"2020-06\", \"variable\": \"japan_cpi\", \"value\": 0.01}, {\"date\": \"2020-07\", \"variable\": \"japan_cpi\", \"value\": 0.03}, {\"date\": \"2020-08\", \"variable\": \"japan_cpi\", \"value\": 0.02}, {\"date\": \"2020-09\", \"variable\": \"japan_cpi\", \"value\": 0.0}, {\"date\": \"2020-10\", \"variable\": \"japan_cpi\", \"value\": -0.04}, {\"date\": \"2020-11\", \"variable\": \"japan_cpi\", \"value\": -0.09000000000000001}, {\"date\": \"2020-12\", \"variable\": \"japan_cpi\", \"value\": -0.12}, {\"date\": \"2021-01\", \"variable\": \"japan_cpi\", \"value\": -0.06999999999999999}, {\"date\": \"2021-02\", \"variable\": \"japan_cpi\", \"value\": -0.05}, {\"date\": \"2021-03\", \"variable\": \"japan_cpi\", \"value\": -0.04}, {\"date\": \"2021-04\", \"variable\": \"japan_cpi\", \"value\": -0.11000000000000001}, {\"date\": \"2021-05\", \"variable\": \"japan_cpi\", \"value\": -0.08}, {\"date\": \"2021-06\", \"variable\": \"japan_cpi\", \"value\": -0.05}, {\"date\": \"2018-01\", \"variable\": \"united_states_cpi\", \"value\": 0.2070508}, {\"date\": \"2018-02\", \"variable\": \"united_states_cpi\", \"value\": 0.2211795}, {\"date\": \"2018-03\", \"variable\": \"united_states_cpi\", \"value\": 0.2359711}, {\"date\": \"2018-04\", \"variable\": \"united_states_cpi\", \"value\": 0.24627439999999998}, {\"date\": \"2018-05\", \"variable\": \"united_states_cpi\", \"value\": 0.2801012}, {\"date\": \"2018-06\", \"variable\": \"united_states_cpi\", \"value\": 0.2871548}, {\"date\": \"2018-07\", \"variable\": \"united_states_cpi\", \"value\": 0.29495150000000003}, {\"date\": \"2018-08\", \"variable\": \"united_states_cpi\", \"value\": 0.269918}, {\"date\": \"2018-09\", \"variable\": \"united_states_cpi\", \"value\": 0.22769720000000004}, {\"date\": \"2018-10\", \"variable\": \"united_states_cpi\", \"value\": 0.252247}, {\"date\": \"2018-11\", \"variable\": \"united_states_cpi\", \"value\": 0.2176601}, {\"date\": \"2018-12\", \"variable\": \"united_states_cpi\", \"value\": 0.1910159}, {\"date\": \"2019-01\", \"variable\": \"united_states_cpi\", \"value\": 0.15512350000000003}, {\"date\": \"2019-02\", \"variable\": \"united_states_cpi\", \"value\": 0.1520135}, {\"date\": \"2019-03\", \"variable\": \"united_states_cpi\", \"value\": 0.18625229999999998}, {\"date\": \"2019-04\", \"variable\": \"united_states_cpi\", \"value\": 0.19964400000000004}, {\"date\": \"2019-05\", \"variable\": \"united_states_cpi\", \"value\": 0.17902279999999998}, {\"date\": \"2019-06\", \"variable\": \"united_states_cpi\", \"value\": 0.16484849999999998}, {\"date\": \"2019-07\", \"variable\": \"united_states_cpi\", \"value\": 0.1811465}, {\"date\": \"2019-08\", \"variable\": \"united_states_cpi\", \"value\": 0.17497799999999997}, {\"date\": \"2019-09\", \"variable\": \"united_states_cpi\", \"value\": 0.17113049999999996}, {\"date\": \"2019-10\", \"variable\": \"united_states_cpi\", \"value\": 0.17640429999999999}, {\"date\": \"2019-11\", \"variable\": \"united_states_cpi\", \"value\": 0.20512779999999997}, {\"date\": \"2019-12\", \"variable\": \"united_states_cpi\", \"value\": 0.22851300000000002}, {\"date\": \"2020-01\", \"variable\": \"united_states_cpi\", \"value\": 0.24865720000000002}, {\"date\": \"2020-02\", \"variable\": \"united_states_cpi\", \"value\": 0.2334874}, {\"date\": \"2020-03\", \"variable\": \"united_states_cpi\", \"value\": 0.1539327}, {\"date\": \"2020-04\", \"variable\": \"united_states_cpi\", \"value\": 0.03290967}, {\"date\": \"2020-05\", \"variable\": \"united_states_cpi\", \"value\": 0.01179264}, {\"date\": \"2020-06\", \"variable\": \"united_states_cpi\", \"value\": 0.06457331}, {\"date\": \"2020-07\", \"variable\": \"united_states_cpi\", \"value\": 0.09860818}, {\"date\": \"2020-08\", \"variable\": \"united_states_cpi\", \"value\": 0.13096450000000004}, {\"date\": \"2020-09\", \"variable\": \"united_states_cpi\", \"value\": 0.1371325}, {\"date\": \"2020-10\", \"variable\": \"united_states_cpi\", \"value\": 0.1182066}, {\"date\": \"2020-11\", \"variable\": \"united_states_cpi\", \"value\": 0.11745359999999999}, {\"date\": \"2020-12\", \"variable\": \"united_states_cpi\", \"value\": 0.1362005}, {\"date\": \"2021-01\", \"variable\": \"united_states_cpi\", \"value\": 0.13997700000000002}, {\"date\": \"2021-02\", \"variable\": \"united_states_cpi\", \"value\": 0.16762150000000003}, {\"date\": \"2021-03\", \"variable\": \"united_states_cpi\", \"value\": 0.2619762}, {\"date\": \"2021-04\", \"variable\": \"united_states_cpi\", \"value\": 0.4159695}, {\"date\": \"2021-05\", \"variable\": \"united_states_cpi\", \"value\": 0.49927070000000007}, {\"date\": \"2021-06\", \"variable\": \"united_states_cpi\", \"value\": 0.5391451}]}}, {\"mode\": \"vega-lite\"});\n",
       "</script>"
      ],
      "text/plain": [
       "alt.Chart(...)"
      ]
     },
     "execution_count": 129,
     "metadata": {},
     "output_type": "execute_result"
    }
   ],
   "source": [
    "alt.data_transformers.disable_max_rows()\n",
    "#cols = cs.expand_selector(df, cs.matches(\"^.*cpi$\") | cs.by_name(\"commodity_DCOILWTICO\").pct_change())\n",
    "df.with_columns(\n",
    "    cs.matches(\"^.*cpi$\").mul(10), cs.by_name(\"price_DCOILWTICO\").pct_change()\n",
    ").unpivot(\n",
    "    index='date', on=cs.matches(\"^.*cpi|price_DCOILWTICO$\")\n",
    ").plot.line(x='date', y='value', color='variable').properties(width=1000, title=\"\")\n",
    "#df.unpivot(index='date', on=pl.col.commodity_DCOILWTICO.pct_change())#.plot.line(x='date', y='value', color='variable').properties(width=700, title=\"\")"
   ]
  },
  {
   "cell_type": "code",
   "execution_count": 185,
   "metadata": {},
   "outputs": [
    {
     "data": {
      "text/plain": [
       "[np.float64(0.798936294771064),\n",
       " np.float64(0.8173328954200425),\n",
       " np.float64(0.8737728127773259),\n",
       " np.float64(0.9603102498040896),\n",
       " np.float64(0.8023126856364046),\n",
       " np.float64(0.7082630587433577),\n",
       " np.float64(0.8360823939879122),\n",
       " np.float64(0.7092770628756254),\n",
       " np.float64(0.6984349824001042),\n",
       " np.float64(0.7250449974837702),\n",
       " np.float64(0.7809636854052712),\n",
       " np.float64(0.8577147296786966),\n",
       " np.float64(0.7837503503233395),\n",
       " np.float64(0.9058314993958982),\n",
       " np.float64(0.7624557595448118),\n",
       " np.float64(0.7627711036023674),\n",
       " np.float64(0.708978542889427),\n",
       " np.float64(0.8321139312025828),\n",
       " np.float64(0.8172028313681031),\n",
       " np.float64(0.6775809492146678)]"
      ]
     },
     "execution_count": 185,
     "metadata": {},
     "output_type": "execute_result"
    }
   ],
   "source": [
    "[\n",
    "    im.transfer_entropy(df.get_column('price_DCOILWTICO').pct_change(), df.get_column('france_cpi'), approach='ordinal', embedding_dim=3, prop_time=lag, base=2)\n",
    "    for lag in range(0, 20)\n",
    "]"
   ]
  },
  {
   "cell_type": "code",
   "execution_count": 197,
   "metadata": {},
   "outputs": [
    {
     "data": {
      "text/html": [
       "<div><style>\n",
       ".dataframe > thead > tr,\n",
       ".dataframe > tbody > tr {\n",
       "  text-align: right;\n",
       "  white-space: pre-wrap;\n",
       "}\n",
       "</style>\n",
       "<small>shape: (42,)</small><table border=\"1\" class=\"dataframe\"><thead><tr><th>price_DCOILWTICO</th></tr><tr><td>f64</td></tr></thead><tbody><tr><td>63.698571</td></tr><tr><td>62.229474</td></tr><tr><td>62.724762</td></tr><tr><td>66.25381</td></tr><tr><td>69.978182</td></tr><tr><td>&hellip;</td></tr><tr><td>59.046316</td></tr><tr><td>62.333043</td></tr><tr><td>61.716667</td></tr><tr><td>65.1695</td></tr><tr><td>71.378182</td></tr></tbody></table></div>"
      ],
      "text/plain": [
       "shape: (42,)\n",
       "Series: 'price_DCOILWTICO' [f64]\n",
       "[\n",
       "\t63.698571\n",
       "\t62.229474\n",
       "\t62.724762\n",
       "\t66.25381\n",
       "\t69.978182\n",
       "\t…\n",
       "\t59.046316\n",
       "\t62.333043\n",
       "\t61.716667\n",
       "\t65.1695\n",
       "\t71.378182\n",
       "]"
      ]
     },
     "execution_count": 197,
     "metadata": {},
     "output_type": "execute_result"
    }
   ],
   "source": [
    "df.get_column('price_DCOILWTICO')"
   ]
  },
  {
   "cell_type": "code",
   "execution_count": 201,
   "metadata": {},
   "outputs": [
    {
     "name": "stdout",
     "output_type": "stream",
     "text": [
      "LAG: 5\n",
      "Effective TE: -0.120584 bits\n",
      "LAG: 7\n",
      "Effective TE: 0.359680 bits\n"
     ]
    }
   ],
   "source": [
    "for lag in range(0, 12):\n",
    "    est = im.estimator(\n",
    "        df.get_column('price_DCOILWTICO'),#.pct_change().fill_null(0.0),\n",
    "        df.get_column('united_states_cpi'),#.pct_change().fill_null(0.0),\n",
    "        #cond=df.select('price_DCOILWTICO', b=pl.col.price_DCOILWTICO.pct_change().fill_null(0.0)),#.pct_change().fill_null(0.0),\n",
    "        measure='te',\n",
    "        approach='ordinal', # 'ksg'\n",
    "        embedding_dim=3,\n",
    "        prop_time=lag,\n",
    "        base=2,\n",
    "    )\n",
    "    # Calculate effective transfer entropy\n",
    "    #print(est.result())\n",
    "\n",
    "    # Perform statistical testing\n",
    "    stat_test = est.statistical_test(n_tests=20, method=\"permutation_test\")\n",
    "    if stat_test.p_value < .05:\n",
    "        print(f'LAG: {lag}')\n",
    "        effective_te = est.effective_val()\n",
    "        print(f\"Effective TE: {effective_te:.6f} bits\")\n",
    "    #print(f\"90% CI: {stat_test.confidence_interval(0.9)}\")\n",
    "    \n"
   ]
  },
  {
   "cell_type": "markdown",
   "metadata": {},
   "source": [
    "## TODO : optimal alignement algorithm\n",
    "- we want to find a vector of positive lags maximizing TE (with p_value < 0.05)\n",
    "- we also want to control overfitting\n",
    "\n",
    "we can leverage the MDL framework for this : \n",
    " - what is the size of data D given the model ? This is TEx->y | M; i.e the the transfer entropy of X aligned with the vector of lags and y\n",
    " - what is the size of the model itself ?\n",
    "    1. `alignment.rle_id().entropy()` (kudos to data engineering) will reward aligment will long blocks of consecutive values (intuitively it's good to have a lag that's constant for a long time) + this allows comparison with the \"fix-lag model\"\n",
    "        - question here : perhaps we want to consider `alignment.pct_change().rle_id().entropy()` to avoid penalizing linearly decreasing/increaseing blocks that points to a single shock from x leading to values in y \n",
    "    2. `aligment.entropy()` will reward alignments with a lower cardinality\n",
    "    - both 1. and 2. control for the model complexity\n",
    "  \n",
    " - a good model is a model that maximizes TE on the data while minimizing entropies on the alignment vector\n",
    " - with this model we can trigger early stopping and quickly discard overly complex models\n",
    "\n",
    "How do we generate candidates to be submitted to MDL ?\n",
    " - genetic algorithms with gaussian noise ?\n",
    " - bisection\n"
   ]
  },
  {
   "cell_type": "code",
   "execution_count": null,
   "metadata": {},
   "outputs": [],
   "source": []
  }
 ],
 "metadata": {
  "kernelspec": {
   "display_name": "uw",
   "language": "python",
   "name": "python3"
  },
  "language_info": {
   "codemirror_mode": {
    "name": "ipython",
    "version": 3
   },
   "file_extension": ".py",
   "mimetype": "text/x-python",
   "name": "python",
   "nbconvert_exporter": "python",
   "pygments_lexer": "ipython3",
   "version": "3.10.18"
  }
 },
 "nbformat": 4,
 "nbformat_minor": 2
}
