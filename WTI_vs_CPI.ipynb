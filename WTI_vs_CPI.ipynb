{
 "cells": [
  {
   "cell_type": "code",
   "execution_count": 287,
   "metadata": {},
   "outputs": [],
   "source": [
    "import numpy as np\n",
    "from openbb import obb\n",
    "import altair as alt\n",
    "import datetime as dt\n",
    "import polars as pl\n",
    "import polars.selectors as cs\n",
    "import datetime as dt\n",
    "import infomeasure as im\n",
    "np.random.seed(92183)  # For reproducible results\n",
    "start_date = dt.date(2010, 1, 1)"
   ]
  },
  {
   "cell_type": "code",
   "execution_count": 288,
   "metadata": {},
   "outputs": [
    {
     "data": {
      "text/html": [
       "<div><style>\n",
       ".dataframe > thead > tr,\n",
       ".dataframe > tbody > tr {\n",
       "  text-align: right;\n",
       "  white-space: pre-wrap;\n",
       "}\n",
       "</style>\n",
       "<small>shape: (5, 2)</small><table border=\"1\" class=\"dataframe\"><thead><tr><th>date</th><th>price_DCOILWTICO</th></tr><tr><td>str</td><td>f64</td></tr></thead><tbody><tr><td>&quot;2010-01&quot;</td><td>78.325789</td></tr><tr><td>&quot;2010-02&quot;</td><td>76.387368</td></tr><tr><td>&quot;2010-03&quot;</td><td>81.203478</td></tr><tr><td>&quot;2010-04&quot;</td><td>84.292857</td></tr><tr><td>&quot;2010-05&quot;</td><td>73.7435</td></tr></tbody></table></div>"
      ],
      "text/plain": [
       "shape: (5, 2)\n",
       "┌─────────┬──────────────────┐\n",
       "│ date    ┆ price_DCOILWTICO │\n",
       "│ ---     ┆ ---              │\n",
       "│ str     ┆ f64              │\n",
       "╞═════════╪══════════════════╡\n",
       "│ 2010-01 ┆ 78.325789        │\n",
       "│ 2010-02 ┆ 76.387368        │\n",
       "│ 2010-03 ┆ 81.203478        │\n",
       "│ 2010-04 ┆ 84.292857        │\n",
       "│ 2010-05 ┆ 73.7435          │\n",
       "└─────────┴──────────────────┘"
      ]
     },
     "execution_count": 288,
     "metadata": {},
     "output_type": "execute_result"
    }
   ],
   "source": [
    "wti = obb.commodity.price.spot(provider='fred', commodity='wti', start_date=start_date)\n",
    "wti = pl.DataFrame(map(lambda d: d.model_dump(), wti.results)).pivot(on='symbol', index='date')\n",
    "# cpi is released once a month, downcast wti to a monthly aggregate to allow analysis\n",
    "wti = wti.group_by(pl.col.date.dt.strftime(\"%Y-%m\"), maintain_order=True).agg(cs.numeric().mean())\n",
    "wti.head()"
   ]
  },
  {
   "cell_type": "code",
   "execution_count": 289,
   "metadata": {},
   "outputs": [
    {
     "data": {
      "text/html": [
       "<div><style>\n",
       ".dataframe > thead > tr,\n",
       ".dataframe > tbody > tr {\n",
       "  text-align: right;\n",
       "  white-space: pre-wrap;\n",
       "}\n",
       "</style>\n",
       "<small>shape: (5, 4)</small><table border=\"1\" class=\"dataframe\"><thead><tr><th>date</th><th>france_cpi</th><th>japan_cpi</th><th>united_states_cpi</th></tr><tr><td>str</td><td>f64</td><td>f64</td><td>f64</td></tr></thead><tbody><tr><td>&quot;2010-01&quot;</td><td>0.011019</td><td>-0.013</td><td>0.026257</td></tr><tr><td>&quot;2010-02&quot;</td><td>0.012807</td><td>-0.011</td><td>0.021433</td></tr><tr><td>&quot;2010-03&quot;</td><td>0.015899</td><td>-0.011</td><td>0.02314</td></tr><tr><td>&quot;2010-04&quot;</td><td>0.016838</td><td>-0.012</td><td>0.022364</td></tr><tr><td>&quot;2010-05&quot;</td><td>0.016492</td><td>-0.009</td><td>0.02021</td></tr></tbody></table></div>"
      ],
      "text/plain": [
       "shape: (5, 4)\n",
       "┌─────────┬────────────┬───────────┬───────────────────┐\n",
       "│ date    ┆ france_cpi ┆ japan_cpi ┆ united_states_cpi │\n",
       "│ ---     ┆ ---        ┆ ---       ┆ ---               │\n",
       "│ str     ┆ f64        ┆ f64       ┆ f64               │\n",
       "╞═════════╪════════════╪═══════════╪═══════════════════╡\n",
       "│ 2010-01 ┆ 0.011019   ┆ -0.013    ┆ 0.026257          │\n",
       "│ 2010-02 ┆ 0.012807   ┆ -0.011    ┆ 0.021433          │\n",
       "│ 2010-03 ┆ 0.015899   ┆ -0.011    ┆ 0.02314           │\n",
       "│ 2010-04 ┆ 0.016838   ┆ -0.012    ┆ 0.022364          │\n",
       "│ 2010-05 ┆ 0.016492   ┆ -0.009    ┆ 0.02021           │\n",
       "└─────────┴────────────┴───────────┴───────────────────┘"
      ]
     },
     "execution_count": 289,
     "metadata": {},
     "output_type": "execute_result"
    }
   ],
   "source": [
    "cpi = obb.economy.cpi(country='japan,united_states,france', provider='fred', start_date=start_date)\n",
    "cpi = pl.DataFrame(map(lambda d: d.model_dump(), cpi.results)).pivot(on='country', index='date')\n",
    "cpi = cpi.select('date', pl.exclude('date').name.suffix('_cpi'))\n",
    "\n",
    "# do the same as for wti\n",
    "cpi = cpi.group_by(pl.col.date.dt.strftime(\"%Y-%m\"), maintain_order=True).agg(cs.numeric().mean())\n",
    "cpi.head()"
   ]
  },
  {
   "cell_type": "code",
   "execution_count": 290,
   "metadata": {},
   "outputs": [
    {
     "name": "stdout",
     "output_type": "stream",
     "text": [
      "(138, 5)\n"
     ]
    },
    {
     "data": {
      "text/html": [
       "<div><style>\n",
       ".dataframe > thead > tr,\n",
       ".dataframe > tbody > tr {\n",
       "  text-align: right;\n",
       "  white-space: pre-wrap;\n",
       "}\n",
       "</style>\n",
       "<small>shape: (5, 5)</small><table border=\"1\" class=\"dataframe\"><thead><tr><th>price_DCOILWTICO</th><th>date</th><th>france_cpi</th><th>japan_cpi</th><th>united_states_cpi</th></tr><tr><td>f64</td><td>str</td><td>f64</td><td>f64</td><td>f64</td></tr></thead><tbody><tr><td>78.325789</td><td>&quot;2010-01&quot;</td><td>0.011019</td><td>-0.013</td><td>0.026257</td></tr><tr><td>76.387368</td><td>&quot;2010-02&quot;</td><td>0.012807</td><td>-0.011</td><td>0.021433</td></tr><tr><td>81.203478</td><td>&quot;2010-03&quot;</td><td>0.015899</td><td>-0.011</td><td>0.02314</td></tr><tr><td>84.292857</td><td>&quot;2010-04&quot;</td><td>0.016838</td><td>-0.012</td><td>0.022364</td></tr><tr><td>73.7435</td><td>&quot;2010-05&quot;</td><td>0.016492</td><td>-0.009</td><td>0.02021</td></tr></tbody></table></div>"
      ],
      "text/plain": [
       "shape: (5, 5)\n",
       "┌──────────────────┬─────────┬────────────┬───────────┬───────────────────┐\n",
       "│ price_DCOILWTICO ┆ date    ┆ france_cpi ┆ japan_cpi ┆ united_states_cpi │\n",
       "│ ---              ┆ ---     ┆ ---        ┆ ---       ┆ ---               │\n",
       "│ f64              ┆ str     ┆ f64        ┆ f64       ┆ f64               │\n",
       "╞══════════════════╪═════════╪════════════╪═══════════╪═══════════════════╡\n",
       "│ 78.325789        ┆ 2010-01 ┆ 0.011019   ┆ -0.013    ┆ 0.026257          │\n",
       "│ 76.387368        ┆ 2010-02 ┆ 0.012807   ┆ -0.011    ┆ 0.021433          │\n",
       "│ 81.203478        ┆ 2010-03 ┆ 0.015899   ┆ -0.011    ┆ 0.02314           │\n",
       "│ 84.292857        ┆ 2010-04 ┆ 0.016838   ┆ -0.012    ┆ 0.022364          │\n",
       "│ 73.7435          ┆ 2010-05 ┆ 0.016492   ┆ -0.009    ┆ 0.02021           │\n",
       "└──────────────────┴─────────┴────────────┴───────────┴───────────────────┘"
      ]
     },
     "execution_count": 290,
     "metadata": {},
     "output_type": "execute_result"
    }
   ],
   "source": [
    "df = wti.join(cpi, on='date', how=\"right\").drop_nulls(subset='^.*cpi$')\n",
    "print(df.shape)\n",
    "df.head()"
   ]
  },
  {
   "cell_type": "code",
   "execution_count": 291,
   "metadata": {},
   "outputs": [
    {
     "data": {
      "text/html": [
       "<div><style>\n",
       ".dataframe > thead > tr,\n",
       ".dataframe > tbody > tr {\n",
       "  text-align: right;\n",
       "  white-space: pre-wrap;\n",
       "}\n",
       "</style>\n",
       "<small>shape: (9, 6)</small><table border=\"1\" class=\"dataframe\"><thead><tr><th>statistic</th><th>price_DCOILWTICO</th><th>date</th><th>france_cpi</th><th>japan_cpi</th><th>united_states_cpi</th></tr><tr><td>str</td><td>f64</td><td>str</td><td>f64</td><td>f64</td><td>f64</td></tr></thead><tbody><tr><td>&quot;count&quot;</td><td>138.0</td><td>&quot;138&quot;</td><td>138.0</td><td>138.0</td><td>138.0</td></tr><tr><td>&quot;null_count&quot;</td><td>0.0</td><td>&quot;0&quot;</td><td>0.0</td><td>0.0</td><td>0.0</td></tr><tr><td>&quot;mean&quot;</td><td>69.076538</td><td>null</td><td>0.010602</td><td>0.003761</td><td>0.017957</td></tr><tr><td>&quot;std&quot;</td><td>22.751063</td><td>null</td><td>0.007335</td><td>0.010305</td><td>0.009644</td></tr><tr><td>&quot;min&quot;</td><td>16.547619</td><td>&quot;2010-01&quot;</td><td>-0.003829</td><td>-0.013</td><td>-0.001995</td></tr><tr><td>&quot;25%&quot;</td><td>49.822</td><td>null</td><td>0.004523</td><td>-0.004</td><td>0.011849</td></tr><tr><td>&quot;50%&quot;</td><td>63.862381</td><td>null</td><td>0.010651</td><td>0.002</td><td>0.01728</td></tr><tr><td>&quot;75%&quot;</td><td>92.021364</td><td>null</td><td>0.015949</td><td>0.007</td><td>0.022364</td></tr><tr><td>&quot;max&quot;</td><td>109.5325</td><td>&quot;2021-06&quot;</td><td>0.0251526</td><td>0.037</td><td>0.053915</td></tr></tbody></table></div>"
      ],
      "text/plain": [
       "shape: (9, 6)\n",
       "┌────────────┬──────────────────┬─────────┬────────────┬───────────┬───────────────────┐\n",
       "│ statistic  ┆ price_DCOILWTICO ┆ date    ┆ france_cpi ┆ japan_cpi ┆ united_states_cpi │\n",
       "│ ---        ┆ ---              ┆ ---     ┆ ---        ┆ ---       ┆ ---               │\n",
       "│ str        ┆ f64              ┆ str     ┆ f64        ┆ f64       ┆ f64               │\n",
       "╞════════════╪══════════════════╪═════════╪════════════╪═══════════╪═══════════════════╡\n",
       "│ count      ┆ 138.0            ┆ 138     ┆ 138.0      ┆ 138.0     ┆ 138.0             │\n",
       "│ null_count ┆ 0.0              ┆ 0       ┆ 0.0        ┆ 0.0       ┆ 0.0               │\n",
       "│ mean       ┆ 69.076538        ┆ null    ┆ 0.010602   ┆ 0.003761  ┆ 0.017957          │\n",
       "│ std        ┆ 22.751063        ┆ null    ┆ 0.007335   ┆ 0.010305  ┆ 0.009644          │\n",
       "│ min        ┆ 16.547619        ┆ 2010-01 ┆ -0.003829  ┆ -0.013    ┆ -0.001995         │\n",
       "│ 25%        ┆ 49.822           ┆ null    ┆ 0.004523   ┆ -0.004    ┆ 0.011849          │\n",
       "│ 50%        ┆ 63.862381        ┆ null    ┆ 0.010651   ┆ 0.002     ┆ 0.01728           │\n",
       "│ 75%        ┆ 92.021364        ┆ null    ┆ 0.015949   ┆ 0.007     ┆ 0.022364          │\n",
       "│ max        ┆ 109.5325         ┆ 2021-06 ┆ 0.0251526  ┆ 0.037     ┆ 0.053915          │\n",
       "└────────────┴──────────────────┴─────────┴────────────┴───────────┴───────────────────┘"
      ]
     },
     "execution_count": 291,
     "metadata": {},
     "output_type": "execute_result"
    }
   ],
   "source": [
    "df.describe()"
   ]
  },
  {
   "cell_type": "code",
   "execution_count": 292,
   "metadata": {},
   "outputs": [
    {
     "data": {
      "text/html": [
       "\n",
       "<style>\n",
       "  #altair-viz-5cd9cdaf1a0c43e3a9087b60c2bc4cce.vega-embed {\n",
       "    width: 100%;\n",
       "    display: flex;\n",
       "  }\n",
       "\n",
       "  #altair-viz-5cd9cdaf1a0c43e3a9087b60c2bc4cce.vega-embed details,\n",
       "  #altair-viz-5cd9cdaf1a0c43e3a9087b60c2bc4cce.vega-embed details summary {\n",
       "    position: relative;\n",
       "  }\n",
       "</style>\n",
       "<div id=\"altair-viz-5cd9cdaf1a0c43e3a9087b60c2bc4cce\"></div>\n",
       "<script type=\"text/javascript\">\n",
       "  var VEGA_DEBUG = (typeof VEGA_DEBUG == \"undefined\") ? {} : VEGA_DEBUG;\n",
       "  (function(spec, embedOpt){\n",
       "    let outputDiv = document.currentScript.previousElementSibling;\n",
       "    if (outputDiv.id !== \"altair-viz-5cd9cdaf1a0c43e3a9087b60c2bc4cce\") {\n",
       "      outputDiv = document.getElementById(\"altair-viz-5cd9cdaf1a0c43e3a9087b60c2bc4cce\");\n",
       "    }\n",
       "\n",
       "    const paths = {\n",
       "      \"vega\": \"https://cdn.jsdelivr.net/npm/vega@5?noext\",\n",
       "      \"vega-lib\": \"https://cdn.jsdelivr.net/npm/vega-lib?noext\",\n",
       "      \"vega-lite\": \"https://cdn.jsdelivr.net/npm/vega-lite@5.20.1?noext\",\n",
       "      \"vega-embed\": \"https://cdn.jsdelivr.net/npm/vega-embed@6?noext\",\n",
       "    };\n",
       "\n",
       "    function maybeLoadScript(lib, version) {\n",
       "      var key = `${lib.replace(\"-\", \"\")}_version`;\n",
       "      return (VEGA_DEBUG[key] == version) ?\n",
       "        Promise.resolve(paths[lib]) :\n",
       "        new Promise(function(resolve, reject) {\n",
       "          var s = document.createElement('script');\n",
       "          document.getElementsByTagName(\"head\")[0].appendChild(s);\n",
       "          s.async = true;\n",
       "          s.onload = () => {\n",
       "            VEGA_DEBUG[key] = version;\n",
       "            return resolve(paths[lib]);\n",
       "          };\n",
       "          s.onerror = () => reject(`Error loading script: ${paths[lib]}`);\n",
       "          s.src = paths[lib];\n",
       "        });\n",
       "    }\n",
       "\n",
       "    function showError(err) {\n",
       "      outputDiv.innerHTML = `<div class=\"error\" style=\"color:red;\">${err}</div>`;\n",
       "      throw err;\n",
       "    }\n",
       "\n",
       "    function displayChart(vegaEmbed) {\n",
       "      vegaEmbed(outputDiv, spec, embedOpt)\n",
       "        .catch(err => showError(`Javascript Error: ${err.message}<br>This usually means there's a typo in your chart specification. See the javascript console for the full traceback.`));\n",
       "    }\n",
       "\n",
       "    if(typeof define === \"function\" && define.amd) {\n",
       "      requirejs.config({paths});\n",
       "      let deps = [\"vega-embed\"];\n",
       "      require(deps, displayChart, err => showError(`Error loading script: ${err.message}`));\n",
       "    } else {\n",
       "      maybeLoadScript(\"vega\", \"5\")\n",
       "        .then(() => maybeLoadScript(\"vega-lite\", \"5.20.1\"))\n",
       "        .then(() => maybeLoadScript(\"vega-embed\", \"6\"))\n",
       "        .catch(showError)\n",
       "        .then(() => displayChart(vegaEmbed));\n",
       "    }\n",
       "  })({\"config\": {\"view\": {\"continuousWidth\": 300, \"continuousHeight\": 300}}, \"data\": {\"name\": \"data-7cdc5b0a732b589853d6e0e386117b94\"}, \"mark\": {\"type\": \"line\", \"tooltip\": true}, \"encoding\": {\"color\": {\"field\": \"variable\", \"type\": \"nominal\"}, \"x\": {\"field\": \"date\", \"type\": \"nominal\"}, \"y\": {\"field\": \"value\", \"type\": \"quantitative\"}}, \"params\": [{\"name\": \"param_39\", \"select\": {\"type\": \"interval\", \"encodings\": [\"x\", \"y\"]}, \"bind\": \"scales\"}], \"title\": \"\", \"width\": 1000, \"$schema\": \"https://vega.github.io/schema/vega-lite/v5.20.1.json\", \"datasets\": {\"data-7cdc5b0a732b589853d6e0e386117b94\": [{\"date\": \"2010-01\", \"variable\": \"price_DCOILWTICO\", \"value\": null}, {\"date\": \"2010-02\", \"variable\": \"price_DCOILWTICO\", \"value\": -0.024748184035640476}, {\"date\": \"2010-03\", \"variable\": \"price_DCOILWTICO\", \"value\": 0.06304851102174629}, {\"date\": \"2010-04\", \"variable\": \"price_DCOILWTICO\", \"value\": 0.03804490827428367}, {\"date\": \"2010-05\", \"variable\": \"price_DCOILWTICO\", \"value\": -0.12515125836793498}, {\"date\": \"2010-06\", \"variable\": \"price_DCOILWTICO\", \"value\": 0.021593890863724947}, {\"date\": \"2010-07\", \"variable\": \"price_DCOILWTICO\", \"value\": 0.013056386130918774}, {\"date\": \"2010-08\", \"variable\": \"price_DCOILWTICO\", \"value\": 0.0036631137828487155}, {\"date\": \"2010-09\", \"variable\": \"price_DCOILWTICO\", \"value\": -0.017718045097909668}, {\"date\": \"2010-10\", \"variable\": \"price_DCOILWTICO\", \"value\": 0.08839425851855615}, {\"date\": \"2010-11\", \"variable\": \"price_DCOILWTICO\", \"value\": 0.028818142171827116}, {\"date\": \"2010-12\", \"variable\": \"price_DCOILWTICO\", \"value\": 0.05807579842373067}, {\"date\": \"2011-01\", \"variable\": \"price_DCOILWTICO\", \"value\": 0.00027585011294058045}, {\"date\": \"2011-02\", \"variable\": \"price_DCOILWTICO\", \"value\": -0.006639852275903299}, {\"date\": \"2011-03\", \"variable\": \"price_DCOILWTICO\", \"value\": 0.16119163693395602}, {\"date\": \"2011-04\", \"variable\": \"price_DCOILWTICO\", \"value\": 0.06490573614574957}, {\"date\": \"2011-05\", \"variable\": \"price_DCOILWTICO\", \"value\": -0.07880787720104823}, {\"date\": \"2011-06\", \"variable\": \"price_DCOILWTICO\", \"value\": -0.04595008325464057}, {\"date\": \"2011-07\", \"variable\": \"price_DCOILWTICO\", \"value\": 0.010797474749859357}, {\"date\": \"2011-08\", \"variable\": \"price_DCOILWTICO\", \"value\": -0.1127447267748759}, {\"date\": \"2011-09\", \"variable\": \"price_DCOILWTICO\", \"value\": -0.009472681027730384}, {\"date\": \"2011-10\", \"variable\": \"price_DCOILWTICO\", \"value\": 0.009438585158868674}, {\"date\": \"2011-11\", \"variable\": \"price_DCOILWTICO\", \"value\": 0.1255537106196594}, {\"date\": \"2011-12\", \"variable\": \"price_DCOILWTICO\", \"value\": 0.014433656640707464}, {\"date\": \"2012-01\", \"variable\": \"price_DCOILWTICO\", \"value\": 0.01735585703104604}, {\"date\": \"2012-02\", \"variable\": \"price_DCOILWTICO\", \"value\": 0.019252344836871108}, {\"date\": \"2012-03\", \"variable\": \"price_DCOILWTICO\", \"value\": 0.03868466276004133}, {\"date\": \"2012-04\", \"variable\": \"price_DCOILWTICO\", \"value\": -0.026721816165482627}, {\"date\": \"2012-05\", \"variable\": \"price_DCOILWTICO\", \"value\": -0.08387892631173277}, {\"date\": \"2012-06\", \"variable\": \"price_DCOILWTICO\", \"value\": -0.13048725829171492}, {\"date\": \"2012-07\", \"variable\": \"price_DCOILWTICO\", \"value\": 0.06794262802524918}, {\"date\": \"2012-08\", \"variable\": \"price_DCOILWTICO\", \"value\": 0.07094885215318475}, {\"date\": \"2012-09\", \"variable\": \"price_DCOILWTICO\", \"value\": 0.004062196581142757}, {\"date\": \"2012-10\", \"variable\": \"price_DCOILWTICO\", \"value\": -0.05313918195711285}, {\"date\": \"2012-11\", \"variable\": \"price_DCOILWTICO\", \"value\": -0.03307445117676857}, {\"date\": \"2012-12\", \"variable\": \"price_DCOILWTICO\", \"value\": 0.015347850491976718}, {\"date\": \"2013-01\", \"variable\": \"price_DCOILWTICO\", \"value\": 0.07850222988597304}, {\"date\": \"2013-02\", \"variable\": \"price_DCOILWTICO\", \"value\": 0.005828409980874353}, {\"date\": \"2013-03\", \"variable\": \"price_DCOILWTICO\", \"value\": -0.024871194508716672}, {\"date\": \"2013-04\", \"variable\": \"price_DCOILWTICO\", \"value\": -0.009868207079266113}, {\"date\": \"2013-05\", \"variable\": \"price_DCOILWTICO\", \"value\": 0.027039175685488172}, {\"date\": \"2013-06\", \"variable\": \"price_DCOILWTICO\", \"value\": 0.013363248541513238}, {\"date\": \"2013-07\", \"variable\": \"price_DCOILWTICO\", \"value\": 0.09291194331263238}, {\"date\": \"2013-08\", \"variable\": \"price_DCOILWTICO\", \"value\": 0.01816950094669037}, {\"date\": \"2013-09\", \"variable\": \"price_DCOILWTICO\", \"value\": -0.0026575961784527573}, {\"date\": \"2013-10\", \"variable\": \"price_DCOILWTICO\", \"value\": -0.05410919357448085}, {\"date\": \"2013-11\", \"variable\": \"price_DCOILWTICO\", \"value\": -0.06638528269575097}, {\"date\": \"2013-12\", \"variable\": \"price_DCOILWTICO\", \"value\": 0.040071146501727266}, {\"date\": \"2014-01\", \"variable\": \"price_DCOILWTICO\", \"value\": -0.03081268017150145}, {\"date\": \"2014-02\", \"variable\": \"price_DCOILWTICO\", \"value\": 0.06552962155358223}, {\"date\": \"2014-03\", \"variable\": \"price_DCOILWTICO\", \"value\": -0.00013448969612545186}, {\"date\": \"2014-04\", \"variable\": \"price_DCOILWTICO\", \"value\": 0.012551490873360596}, {\"date\": \"2014-05\", \"variable\": \"price_DCOILWTICO\", \"value\": 0.001059040332174836}, {\"date\": \"2014-06\", \"variable\": \"price_DCOILWTICO\", \"value\": 0.03540070465857637}, {\"date\": \"2014-07\", \"variable\": \"price_DCOILWTICO\", \"value\": -0.020848473391144085}, {\"date\": \"2014-08\", \"variable\": \"price_DCOILWTICO\", \"value\": -0.06808126967410846}, {\"date\": \"2014-09\", \"variable\": \"price_DCOILWTICO\", \"value\": -0.03443564219685692}, {\"date\": \"2014-10\", \"variable\": \"price_DCOILWTICO\", \"value\": -0.09456891008377141}, {\"date\": \"2014-11\", \"variable\": \"price_DCOILWTICO\", \"value\": -0.10198807151667208}, {\"date\": \"2014-12\", \"variable\": \"price_DCOILWTICO\", \"value\": -0.21769539141414126}, {\"date\": \"2015-01\", \"variable\": \"price_DCOILWTICO\", \"value\": -0.2035986169780511}, {\"date\": \"2015-02\", \"variable\": \"price_DCOILWTICO\", \"value\": 0.0712681447365635}, {\"date\": \"2015-03\", \"variable\": \"price_DCOILWTICO\", \"value\": -0.054573831121537006}, {\"date\": \"2015-04\", \"variable\": \"price_DCOILWTICO\", \"value\": 0.1386180826738937}, {\"date\": \"2015-05\", \"variable\": \"price_DCOILWTICO\", \"value\": 0.08837264212818446}, {\"date\": \"2015-06\", \"variable\": \"price_DCOILWTICO\", \"value\": 0.00935704808142142}, {\"date\": \"2015-07\", \"variable\": \"price_DCOILWTICO\", \"value\": -0.14909234591916581}, {\"date\": \"2015-08\", \"variable\": \"price_DCOILWTICO\", \"value\": -0.15782213297885447}, {\"date\": \"2015-09\", \"variable\": \"price_DCOILWTICO\", \"value\": 0.060929550554308744}, {\"date\": \"2015-10\", \"variable\": \"price_DCOILWTICO\", \"value\": 0.01636148516481896}, {\"date\": \"2015-11\", \"variable\": \"price_DCOILWTICO\", \"value\": -0.08177929433977113}, {\"date\": \"2015-12\", \"variable\": \"price_DCOILWTICO\", \"value\": -0.12380844266763183}, {\"date\": \"2016-01\", \"variable\": \"price_DCOILWTICO\", \"value\": -0.14804195601758774}, {\"date\": \"2016-02\", \"variable\": \"price_DCOILWTICO\", \"value\": -0.04292999767434139}, {\"date\": \"2016-03\", \"variable\": \"price_DCOILWTICO\", \"value\": 0.2382140169628215}, {\"date\": \"2016-04\", \"variable\": \"price_DCOILWTICO\", \"value\": 0.08546432059179904}, {\"date\": \"2016-05\", \"variable\": \"price_DCOILWTICO\", \"value\": 0.14616876591965994}, {\"date\": \"2016-06\", \"variable\": \"price_DCOILWTICO\", \"value\": 0.043776226627719024}, {\"date\": \"2016-07\", \"variable\": \"price_DCOILWTICO\", \"value\": -0.08420841646001519}, {\"date\": \"2016-08\", \"variable\": \"price_DCOILWTICO\", \"value\": 0.0016314754507007292}, {\"date\": \"2016-09\", \"variable\": \"price_DCOILWTICO\", \"value\": 0.010241247744407237}, {\"date\": \"2016-10\", \"variable\": \"price_DCOILWTICO\", \"value\": 0.10165150764625888}, {\"date\": \"2016-11\", \"variable\": \"price_DCOILWTICO\", \"value\": -0.08265727843257309}, {\"date\": \"2016-12\", \"variable\": \"price_DCOILWTICO\", \"value\": 0.13818204572000684}, {\"date\": \"2017-01\", \"variable\": \"price_DCOILWTICO\", \"value\": 0.010265901885685822}, {\"date\": \"2017-02\", \"variable\": \"price_DCOILWTICO\", \"value\": 0.018368525305340007}, {\"date\": \"2017-03\", \"variable\": \"price_DCOILWTICO\", \"value\": -0.07744000821717303}, {\"date\": \"2017-04\", \"variable\": \"price_DCOILWTICO\", \"value\": 0.03512622319456191}, {\"date\": \"2017-05\", \"variable\": \"price_DCOILWTICO\", \"value\": -0.05060979323722212}, {\"date\": \"2017-06\", \"variable\": \"price_DCOILWTICO\", \"value\": -0.06804628309954239}, {\"date\": \"2017-07\", \"variable\": \"price_DCOILWTICO\", \"value\": 0.03215741762067832}, {\"date\": \"2017-08\", \"variable\": \"price_DCOILWTICO\", \"value\": 0.03016114800903357}, {\"date\": \"2017-09\", \"variable\": \"price_DCOILWTICO\", \"value\": 0.03715979544734574}, {\"date\": \"2017-10\", \"variable\": \"price_DCOILWTICO\", \"value\": 0.035239999854025594}, {\"date\": \"2017-11\", \"variable\": \"price_DCOILWTICO\", \"value\": 0.09812072814073346}, {\"date\": \"2017-12\", \"variable\": \"price_DCOILWTICO\", \"value\": 0.021944913864857234}, {\"date\": \"2018-01\", \"variable\": \"price_DCOILWTICO\", \"value\": 0.10049966618991282}, {\"date\": \"2018-02\", \"variable\": \"price_DCOILWTICO\", \"value\": -0.023063276167947944}, {\"date\": \"2018-03\", \"variable\": \"price_DCOILWTICO\", \"value\": 0.00795906169903917}, {\"date\": \"2018-04\", \"variable\": \"price_DCOILWTICO\", \"value\": 0.05626243148449015}, {\"date\": \"2018-05\", \"variable\": \"price_DCOILWTICO\", \"value\": 0.05621370787794271}, {\"date\": \"2018-06\", \"variable\": \"price_DCOILWTICO\", \"value\": -0.030078639229543267}, {\"date\": \"2018-07\", \"variable\": \"price_DCOILWTICO\", \"value\": 0.04579258282234425}, {\"date\": \"2018-08\", \"variable\": \"price_DCOILWTICO\", \"value\": -0.04121889987845661}, {\"date\": \"2018-09\", \"variable\": \"price_DCOILWTICO\", \"value\": 0.031980489786256616}, {\"date\": \"2018-10\", \"variable\": \"price_DCOILWTICO\", \"value\": 0.007355473498627891}, {\"date\": \"2018-11\", \"variable\": \"price_DCOILWTICO\", \"value\": -0.19484734700900921}, {\"date\": \"2018-12\", \"variable\": \"price_DCOILWTICO\", \"value\": -0.13062263067090718}, {\"date\": \"2019-01\", \"variable\": \"price_DCOILWTICO\", \"value\": 0.03741584359930584}, {\"date\": \"2019-02\", \"variable\": \"price_DCOILWTICO\", \"value\": 0.06966370407011893}, {\"date\": \"2019-03\", \"variable\": \"price_DCOILWTICO\", \"value\": 0.05816953938853295}, {\"date\": \"2019-04\", \"variable\": \"price_DCOILWTICO\", \"value\": 0.09820829034212793}, {\"date\": \"2019-05\", \"variable\": \"price_DCOILWTICO\", \"value\": -0.047532878124701194}, {\"date\": \"2019-06\", \"variable\": \"price_DCOILWTICO\", \"value\": -0.10142431194374484}, {\"date\": \"2019-07\", \"variable\": \"price_DCOILWTICO\", \"value\": 0.04940941751992348}, {\"date\": \"2019-08\", \"variable\": \"price_DCOILWTICO\", \"value\": -0.044495657266719384}, {\"date\": \"2019-09\", \"variable\": \"price_DCOILWTICO\", \"value\": 0.03906678941388186}, {\"date\": \"2019-10\", \"variable\": \"price_DCOILWTICO\", \"value\": -0.05239883614130927}, {\"date\": \"2019-11\", \"variable\": \"price_DCOILWTICO\", \"value\": 0.05718550495402211}, {\"date\": \"2019-12\", \"variable\": \"price_DCOILWTICO\", \"value\": 0.04851481799255184}, {\"date\": \"2020-01\", \"variable\": \"price_DCOILWTICO\", \"value\": -0.03841101779246115}, {\"date\": \"2020-02\", \"variable\": \"price_DCOILWTICO\", \"value\": -0.12128879612725006}, {\"date\": \"2020-03\", \"variable\": \"price_DCOILWTICO\", \"value\": -0.4221170057774904}, {\"date\": \"2020-04\", \"variable\": \"price_DCOILWTICO\", \"value\": -0.43345064499179986}, {\"date\": \"2020-05\", \"variable\": \"price_DCOILWTICO\", \"value\": 0.7260791366906476}, {\"date\": \"2020-06\", \"variable\": \"price_DCOILWTICO\", \"value\": 0.34117366222399004}, {\"date\": \"2020-07\", \"variable\": \"price_DCOILWTICO\", \"value\": 0.06273434904361885}, {\"date\": \"2020-08\", \"variable\": \"price_DCOILWTICO\", \"value\": 0.04000429599170132}, {\"date\": \"2020-09\", \"variable\": \"price_DCOILWTICO\", \"value\": -0.0638833903185173}, {\"date\": \"2020-10\", \"variable\": \"price_DCOILWTICO\", \"value\": -0.006014404424871206}, {\"date\": \"2020-11\", \"variable\": \"price_DCOILWTICO\", \"value\": 0.039127395856927746}, {\"date\": \"2020-12\", \"variable\": \"price_DCOILWTICO\", \"value\": 0.14870598218073763}, {\"date\": \"2021-01\", \"variable\": \"price_DCOILWTICO\", \"value\": 0.10597386608466956}, {\"date\": \"2021-02\", \"variable\": \"price_DCOILWTICO\", \"value\": 0.1353222150259069}, {\"date\": \"2021-03\", \"variable\": \"price_DCOILWTICO\", \"value\": 0.05566355232908728}, {\"date\": \"2021-04\", \"variable\": \"price_DCOILWTICO\", \"value\": -0.009888444029035206}, {\"date\": \"2021-05\", \"variable\": \"price_DCOILWTICO\", \"value\": 0.055946529840670035}, {\"date\": \"2021-06\", \"variable\": \"price_DCOILWTICO\", \"value\": 0.09526974763013067}, {\"date\": \"2010-01\", \"variable\": \"france_cpi\", \"value\": 0.11018689999999999}, {\"date\": \"2010-02\", \"variable\": \"france_cpi\", \"value\": 0.1280672}, {\"date\": \"2010-03\", \"variable\": \"france_cpi\", \"value\": 0.1589859}, {\"date\": \"2010-04\", \"variable\": \"france_cpi\", \"value\": 0.1683827}, {\"date\": \"2010-05\", \"variable\": \"france_cpi\", \"value\": 0.1649175}, {\"date\": \"2010-06\", \"variable\": \"france_cpi\", \"value\": 0.1508021}, {\"date\": \"2010-07\", \"variable\": \"france_cpi\", \"value\": 0.1675978}, {\"date\": \"2010-08\", \"variable\": \"france_cpi\", \"value\": 0.1389483}, {\"date\": \"2010-09\", \"variable\": \"france_cpi\", \"value\": 0.15643419999999997}, {\"date\": \"2010-10\", \"variable\": \"france_cpi\", \"value\": 0.15949480000000002}, {\"date\": \"2010-11\", \"variable\": \"france_cpi\", \"value\": 0.15713520000000003}, {\"date\": \"2010-12\", \"variable\": \"france_cpi\", \"value\": 0.17590619999999998}, {\"date\": \"2011-01\", \"variable\": \"france_cpi\", \"value\": 0.1741639}, {\"date\": \"2011-02\", \"variable\": \"france_cpi\", \"value\": 0.16576349999999995}, {\"date\": \"2011-03\", \"variable\": \"france_cpi\", \"value\": 0.19879449999999999}, {\"date\": \"2011-04\", \"variable\": \"france_cpi\", \"value\": 0.20778400000000002}, {\"date\": \"2011-05\", \"variable\": \"france_cpi\", \"value\": 0.2012221}, {\"date\": \"2011-06\", \"variable\": \"france_cpi\", \"value\": 0.21072599999999997}, {\"date\": \"2011-07\", \"variable\": \"france_cpi\", \"value\": 0.19442099999999995}, {\"date\": \"2011-08\", \"variable\": \"france_cpi\", \"value\": 0.22348720000000002}, {\"date\": \"2011-09\", \"variable\": \"france_cpi\", \"value\": 0.2236523}, {\"date\": \"2011-10\", \"variable\": \"france_cpi\", \"value\": 0.23495939999999996}, {\"date\": \"2011-11\", \"variable\": \"france_cpi\", \"value\": 0.251526}, {\"date\": \"2011-12\", \"variable\": \"france_cpi\", \"value\": 0.2462022}, {\"date\": \"2012-01\", \"variable\": \"france_cpi\", \"value\": 0.23524470000000003}, {\"date\": \"2012-02\", \"variable\": \"france_cpi\", \"value\": 0.2289119}, {\"date\": \"2012-03\", \"variable\": \"france_cpi\", \"value\": 0.23017110000000002}, {\"date\": \"2012-04\", \"variable\": \"france_cpi\", \"value\": 0.20872080000000004}, {\"date\": \"2012-05\", \"variable\": \"france_cpi\", \"value\": 0.1982857}, {\"date\": \"2012-06\", \"variable\": \"france_cpi\", \"value\": 0.1929625}, {\"date\": \"2012-07\", \"variable\": \"france_cpi\", \"value\": 0.19382259999999998}, {\"date\": \"2012-08\", \"variable\": \"france_cpi\", \"value\": 0.2082904}, {\"date\": \"2012-09\", \"variable\": \"france_cpi\", \"value\": 0.1908988}, {\"date\": \"2012-10\", \"variable\": \"france_cpi\", \"value\": 0.18529959999999998}, {\"date\": \"2012-11\", \"variable\": \"france_cpi\", \"value\": 0.14166920000000002}, {\"date\": \"2012-12\", \"variable\": \"france_cpi\", \"value\": 0.1329243}, {\"date\": \"2013-01\", \"variable\": \"france_cpi\", \"value\": 0.11697110000000002}, {\"date\": \"2013-02\", \"variable\": \"france_cpi\", \"value\": 0.1042305}, {\"date\": \"2013-03\", \"variable\": \"france_cpi\", \"value\": 0.09729401}, {\"date\": \"2013-04\", \"variable\": \"france_cpi\", \"value\": 0.06882590999999999}, {\"date\": \"2013-05\", \"variable\": \"france_cpi\", \"value\": 0.08}, {\"date\": \"2013-06\", \"variable\": \"france_cpi\", \"value\": 0.09313626}, {\"date\": \"2013-07\", \"variable\": \"france_cpi\", \"value\": 0.10676159999999998}, {\"date\": \"2013-08\", \"variable\": \"france_cpi\", \"value\": 0.08686869}, {\"date\": \"2013-09\", \"variable\": \"france_cpi\", \"value\": 0.08809234}, {\"date\": \"2013-10\", \"variable\": \"france_cpi\", \"value\": 0.056599960000000005}, {\"date\": \"2013-11\", \"variable\": \"france_cpi\", \"value\": 0.06782063}, {\"date\": \"2013-12\", \"variable\": \"france_cpi\", \"value\": 0.07063571999999999}, {\"date\": \"2014-01\", \"variable\": \"france_cpi\", \"value\": 0.06490873}, {\"date\": \"2014-02\", \"variable\": \"france_cpi\", \"value\": 0.09203075}, {\"date\": \"2014-03\", \"variable\": \"france_cpi\", \"value\": 0.06122654000000001}, {\"date\": \"2014-04\", \"variable\": \"france_cpi\", \"value\": 0.07237636}, {\"date\": \"2014-05\", \"variable\": \"france_cpi\", \"value\": 0.06831424999999999}, {\"date\": \"2014-06\", \"variable\": \"france_cpi\", \"value\": 0.04814443000000001}, {\"date\": \"2014-07\", \"variable\": \"france_cpi\", \"value\": 0.04627766999999999}, {\"date\": \"2014-08\", \"variable\": \"france_cpi\", \"value\": 0.04406169}, {\"date\": \"2014-09\", \"variable\": \"france_cpi\", \"value\": 0.029107699999999997}, {\"date\": \"2014-10\", \"variable\": \"france_cpi\", \"value\": 0.04522613}, {\"date\": \"2014-11\", \"variable\": \"france_cpi\", \"value\": 0.032173740000000006}, {\"date\": \"2014-12\", \"variable\": \"france_cpi\", \"value\": 0.006012024}, {\"date\": \"2015-01\", \"variable\": \"france_cpi\", \"value\": -0.03829101}, {\"date\": \"2015-02\", \"variable\": \"france_cpi\", \"value\": -0.027056820000000006}, {\"date\": \"2015-03\", \"variable\": \"france_cpi\", \"value\": -0.006983239999999998}, {\"date\": \"2015-04\", \"variable\": \"france_cpi\", \"value\": 0.007984032000000002}, {\"date\": \"2015-05\", \"variable\": \"france_cpi\", \"value\": 0.02993414}, {\"date\": \"2015-06\", \"variable\": \"france_cpi\", \"value\": 0.025953280000000002}, {\"date\": \"2015-07\", \"variable\": \"france_cpi\", \"value\": 0.017023829999999997}, {\"date\": \"2015-08\", \"variable\": \"france_cpi\", \"value\": 0.004985045}, {\"date\": \"2015-09\", \"variable\": \"france_cpi\", \"value\": 0.0030024019999999995}, {\"date\": \"2015-10\", \"variable\": \"france_cpi\", \"value\": 0.006003001000000001}, {\"date\": \"2015-11\", \"variable\": \"france_cpi\", \"value\": 0.00400882}, {\"date\": \"2015-12\", \"variable\": \"france_cpi\", \"value\": 0.018025239999999998}, {\"date\": \"2016-01\", \"variable\": \"france_cpi\", \"value\": 0.02225369}, {\"date\": \"2016-02\", \"variable\": \"france_cpi\", \"value\": -0.01909164}, {\"date\": \"2016-03\", \"variable\": \"france_cpi\", \"value\": -0.014974540000000001}, {\"date\": \"2016-04\", \"variable\": \"france_cpi\", \"value\": -0.018946949999999997}, {\"date\": \"2016-05\", \"variable\": \"france_cpi\", \"value\": -0.001989654}, {\"date\": \"2016-06\", \"variable\": \"france_cpi\", \"value\": 0.018916770000000003}, {\"date\": \"2016-07\", \"variable\": \"france_cpi\", \"value\": 0.021993400000000003}, {\"date\": \"2016-08\", \"variable\": \"france_cpi\", \"value\": 0.02291978}, {\"date\": \"2016-09\", \"variable\": \"france_cpi\", \"value\": 0.03901950999999999}, {\"date\": \"2016-10\", \"variable\": \"france_cpi\", \"value\": 0.0359964}, {\"date\": \"2016-11\", \"variable\": \"france_cpi\", \"value\": 0.05309557}, {\"date\": \"2016-12\", \"variable\": \"france_cpi\", \"value\": 0.060975610000000006}, {\"date\": \"2017-01\", \"variable\": \"france_cpi\", \"value\": 0.134235}, {\"date\": \"2017-02\", \"variable\": \"france_cpi\", \"value\": 0.1208094}, {\"date\": \"2017-03\", \"variable\": \"france_cpi\", \"value\": 0.11497700000000001}, {\"date\": \"2017-04\", \"variable\": \"france_cpi\", \"value\": 0.1168948}, {\"date\": \"2017-05\", \"variable\": \"france_cpi\", \"value\": 0.08059701000000001}, {\"date\": \"2017-06\", \"variable\": \"france_cpi\", \"value\": 0.06856802}, {\"date\": \"2017-07\", \"variable\": \"france_cpi\", \"value\": 0.07182045000000001}, {\"date\": \"2017-08\", \"variable\": \"france_cpi\", \"value\": 0.09047524}, {\"date\": \"2017-09\", \"variable\": \"france_cpi\", \"value\": 0.09866454}, {\"date\": \"2017-10\", \"variable\": \"france_cpi\", \"value\": 0.10560929999999999}, {\"date\": \"2017-11\", \"variable\": \"france_cpi\", \"value\": 0.1175884}, {\"date\": \"2017-12\", \"variable\": \"france_cpi\", \"value\": 0.11922500000000001}, {\"date\": \"2018-01\", \"variable\": \"france_cpi\", \"value\": 0.1334528}, {\"date\": \"2018-02\", \"variable\": \"france_cpi\", \"value\": 0.11837260000000001}, {\"date\": \"2018-03\", \"variable\": \"france_cpi\", \"value\": 0.1561728}, {\"date\": \"2018-04\", \"variable\": \"france_cpi\", \"value\": 0.16393439999999998}, {\"date\": \"2018-05\", \"variable\": \"france_cpi\", \"value\": 0.20234919999999995}, {\"date\": \"2018-06\", \"variable\": \"france_cpi\", \"value\": 0.20232930000000005}, {\"date\": \"2018-07\", \"variable\": \"france_cpi\", \"value\": 0.2287808}, {\"date\": \"2018-08\", \"variable\": \"france_cpi\", \"value\": 0.225638}, {\"date\": \"2018-09\", \"variable\": \"france_cpi\", \"value\": 0.22007300000000002}, {\"date\": \"2018-10\", \"variable\": \"france_cpi\", \"value\": 0.220842}, {\"date\": \"2018-11\", \"variable\": \"france_cpi\", \"value\": 0.18910669999999996}, {\"date\": \"2018-12\", \"variable\": \"france_cpi\", \"value\": 0.1590574}, {\"date\": \"2019-01\", \"variable\": \"france_cpi\", \"value\": 0.1238329}, {\"date\": \"2019-02\", \"variable\": \"france_cpi\", \"value\": 0.1317342}, {\"date\": \"2019-03\", \"variable\": \"france_cpi\", \"value\": 0.11094889999999999}, {\"date\": \"2019-04\", \"variable\": \"france_cpi\", \"value\": 0.1263117}, {\"date\": \"2019-05\", \"variable\": \"france_cpi\", \"value\": 0.09384674999999998}, {\"date\": \"2019-06\", \"variable\": \"france_cpi\", \"value\": 0.1170552}, {\"date\": \"2019-07\", \"variable\": \"france_cpi\", \"value\": 0.1065066}, {\"date\": \"2019-08\", \"variable\": \"france_cpi\", \"value\": 0.10406629999999999}, {\"date\": \"2019-09\", \"variable\": \"france_cpi\", \"value\": 0.09076864000000001}, {\"date\": \"2019-10\", \"variable\": \"france_cpi\", \"value\": 0.07620334}, {\"date\": \"2019-11\", \"variable\": \"france_cpi\", \"value\": 0.10343160000000001}, {\"date\": \"2019-12\", \"variable\": \"france_cpi\", \"value\": 0.145936}, {\"date\": \"2020-01\", \"variable\": \"france_cpi\", \"value\": 0.1485293}, {\"date\": \"2020-02\", \"variable\": \"france_cpi\", \"value\": 0.14263540000000002}, {\"date\": \"2020-03\", \"variable\": \"france_cpi\", \"value\": 0.06737896}, {\"date\": \"2020-04\", \"variable\": \"france_cpi\", \"value\": 0.0326233}, {\"date\": \"2020-05\", \"variable\": \"france_cpi\", \"value\": 0.036422890000000006}, {\"date\": \"2020-06\", \"variable\": \"france_cpi\", \"value\": 0.020080320000000002}, {\"date\": \"2020-07\", \"variable\": \"france_cpi\", \"value\": 0.07760108}, {\"date\": \"2020-08\", \"variable\": \"france_cpi\", \"value\": 0.021934009999999997}, {\"date\": \"2020-09\", \"variable\": \"france_cpi\", \"value\": 0.004784689000000001}, {\"date\": \"2020-10\", \"variable\": \"france_cpi\", \"value\": 0.004786520999999999}, {\"date\": \"2020-11\", \"variable\": \"france_cpi\", \"value\": 0.02009185}, {\"date\": \"2020-12\", \"variable\": \"france_cpi\", \"value\": -0.0019051249999999997}, {\"date\": \"2021-01\", \"variable\": \"france_cpi\", \"value\": 0.05548115}, {\"date\": \"2021-02\", \"variable\": \"france_cpi\", \"value\": 0.056443129999999994}, {\"date\": \"2021-03\", \"variable\": \"france_cpi\", \"value\": 0.1109093}, {\"date\": \"2021-04\", \"variable\": \"france_cpi\", \"value\": 0.1243305}, {\"date\": \"2021-05\", \"variable\": \"france_cpi\", \"value\": 0.1422978}, {\"date\": \"2021-06\", \"variable\": \"france_cpi\", \"value\": 0.14791490000000002}, {\"date\": \"2010-01\", \"variable\": \"japan_cpi\", \"value\": -0.13}, {\"date\": \"2010-02\", \"variable\": \"japan_cpi\", \"value\": -0.11000000000000001}, {\"date\": \"2010-03\", \"variable\": \"japan_cpi\", \"value\": -0.11000000000000001}, {\"date\": \"2010-04\", \"variable\": \"japan_cpi\", \"value\": -0.12}, {\"date\": \"2010-05\", \"variable\": \"japan_cpi\", \"value\": -0.09000000000000001}, {\"date\": \"2010-06\", \"variable\": \"japan_cpi\", \"value\": -0.06999999999999999}, {\"date\": \"2010-07\", \"variable\": \"japan_cpi\", \"value\": -0.09000000000000001}, {\"date\": \"2010-08\", \"variable\": \"japan_cpi\", \"value\": -0.09000000000000001}, {\"date\": \"2010-09\", \"variable\": \"japan_cpi\", \"value\": -0.06}, {\"date\": \"2010-10\", \"variable\": \"japan_cpi\", \"value\": 0.02}, {\"date\": \"2010-11\", \"variable\": \"japan_cpi\", \"value\": 0.01}, {\"date\": \"2010-12\", \"variable\": \"japan_cpi\", \"value\": 0.0}, {\"date\": \"2011-01\", \"variable\": \"japan_cpi\", \"value\": -0.06}, {\"date\": \"2011-02\", \"variable\": \"japan_cpi\", \"value\": -0.05}, {\"date\": \"2011-03\", \"variable\": \"japan_cpi\", \"value\": -0.05}, {\"date\": \"2011-04\", \"variable\": \"japan_cpi\", \"value\": -0.04}, {\"date\": \"2011-05\", \"variable\": \"japan_cpi\", \"value\": -0.04}, {\"date\": \"2011-06\", \"variable\": \"japan_cpi\", \"value\": -0.04}, {\"date\": \"2011-07\", \"variable\": \"japan_cpi\", \"value\": 0.02}, {\"date\": \"2011-08\", \"variable\": \"japan_cpi\", \"value\": 0.02}, {\"date\": \"2011-09\", \"variable\": \"japan_cpi\", \"value\": 0.0}, {\"date\": \"2011-10\", \"variable\": \"japan_cpi\", \"value\": -0.02}, {\"date\": \"2011-11\", \"variable\": \"japan_cpi\", \"value\": -0.05}, {\"date\": \"2011-12\", \"variable\": \"japan_cpi\", \"value\": -0.02}, {\"date\": \"2012-01\", \"variable\": \"japan_cpi\", \"value\": 0.01}, {\"date\": \"2012-02\", \"variable\": \"japan_cpi\", \"value\": 0.03}, {\"date\": \"2012-03\", \"variable\": \"japan_cpi\", \"value\": 0.05}, {\"date\": \"2012-04\", \"variable\": \"japan_cpi\", \"value\": 0.04}, {\"date\": \"2012-05\", \"variable\": \"japan_cpi\", \"value\": 0.02}, {\"date\": \"2012-06\", \"variable\": \"japan_cpi\", \"value\": -0.02}, {\"date\": \"2012-07\", \"variable\": \"japan_cpi\", \"value\": -0.04}, {\"date\": \"2012-08\", \"variable\": \"japan_cpi\", \"value\": -0.04}, {\"date\": \"2012-09\", \"variable\": \"japan_cpi\", \"value\": -0.03}, {\"date\": \"2012-10\", \"variable\": \"japan_cpi\", \"value\": -0.04}, {\"date\": \"2012-11\", \"variable\": \"japan_cpi\", \"value\": -0.02}, {\"date\": \"2012-12\", \"variable\": \"japan_cpi\", \"value\": -0.01}, {\"date\": \"2013-01\", \"variable\": \"japan_cpi\", \"value\": -0.03}, {\"date\": \"2013-02\", \"variable\": \"japan_cpi\", \"value\": -0.06999999999999999}, {\"date\": \"2013-03\", \"variable\": \"japan_cpi\", \"value\": -0.09000000000000001}, {\"date\": \"2013-04\", \"variable\": \"japan_cpi\", \"value\": -0.06999999999999999}, {\"date\": \"2013-05\", \"variable\": \"japan_cpi\", \"value\": -0.03}, {\"date\": \"2013-06\", \"variable\": \"japan_cpi\", \"value\": 0.02}, {\"date\": \"2013-07\", \"variable\": \"japan_cpi\", \"value\": 0.06999999999999999}, {\"date\": \"2013-08\", \"variable\": \"japan_cpi\", \"value\": 0.09000000000000001}, {\"date\": \"2013-09\", \"variable\": \"japan_cpi\", \"value\": 0.11000000000000001}, {\"date\": \"2013-10\", \"variable\": \"japan_cpi\", \"value\": 0.11000000000000001}, {\"date\": \"2013-11\", \"variable\": \"japan_cpi\", \"value\": 0.15}, {\"date\": \"2013-12\", \"variable\": \"japan_cpi\", \"value\": 0.16}, {\"date\": \"2014-01\", \"variable\": \"japan_cpi\", \"value\": 0.13999999999999999}, {\"date\": \"2014-02\", \"variable\": \"japan_cpi\", \"value\": 0.15}, {\"date\": \"2014-03\", \"variable\": \"japan_cpi\", \"value\": 0.16}, {\"date\": \"2014-04\", \"variable\": \"japan_cpi\", \"value\": 0.34}, {\"date\": \"2014-05\", \"variable\": \"japan_cpi\", \"value\": 0.37000000000000005}, {\"date\": \"2014-06\", \"variable\": \"japan_cpi\", \"value\": 0.36000000000000004}, {\"date\": \"2014-07\", \"variable\": \"japan_cpi\", \"value\": 0.34}, {\"date\": \"2014-08\", \"variable\": \"japan_cpi\", \"value\": 0.33}, {\"date\": \"2014-09\", \"variable\": \"japan_cpi\", \"value\": 0.32}, {\"date\": \"2014-10\", \"variable\": \"japan_cpi\", \"value\": 0.29}, {\"date\": \"2014-11\", \"variable\": \"japan_cpi\", \"value\": 0.24}, {\"date\": \"2014-12\", \"variable\": \"japan_cpi\", \"value\": 0.24}, {\"date\": \"2015-01\", \"variable\": \"japan_cpi\", \"value\": 0.24}, {\"date\": \"2015-02\", \"variable\": \"japan_cpi\", \"value\": 0.22000000000000003}, {\"date\": \"2015-03\", \"variable\": \"japan_cpi\", \"value\": 0.22999999999999998}, {\"date\": \"2015-04\", \"variable\": \"japan_cpi\", \"value\": 0.06}, {\"date\": \"2015-05\", \"variable\": \"japan_cpi\", \"value\": 0.05}, {\"date\": \"2015-06\", \"variable\": \"japan_cpi\", \"value\": 0.04}, {\"date\": \"2015-07\", \"variable\": \"japan_cpi\", \"value\": 0.02}, {\"date\": \"2015-08\", \"variable\": \"japan_cpi\", \"value\": 0.02}, {\"date\": \"2015-09\", \"variable\": \"japan_cpi\", \"value\": 0.0}, {\"date\": \"2015-10\", \"variable\": \"japan_cpi\", \"value\": 0.03}, {\"date\": \"2015-11\", \"variable\": \"japan_cpi\", \"value\": 0.03}, {\"date\": \"2015-12\", \"variable\": \"japan_cpi\", \"value\": 0.02}, {\"date\": \"2016-01\", \"variable\": \"japan_cpi\", \"value\": -0.01}, {\"date\": \"2016-02\", \"variable\": \"japan_cpi\", \"value\": 0.02}, {\"date\": \"2016-03\", \"variable\": \"japan_cpi\", \"value\": 0.0}, {\"date\": \"2016-04\", \"variable\": \"japan_cpi\", \"value\": -0.03}, {\"date\": \"2016-05\", \"variable\": \"japan_cpi\", \"value\": -0.05}, {\"date\": \"2016-06\", \"variable\": \"japan_cpi\", \"value\": -0.04}, {\"date\": \"2016-07\", \"variable\": \"japan_cpi\", \"value\": -0.04}, {\"date\": \"2016-08\", \"variable\": \"japan_cpi\", \"value\": -0.05}, {\"date\": \"2016-09\", \"variable\": \"japan_cpi\", \"value\": -0.05}, {\"date\": \"2016-10\", \"variable\": \"japan_cpi\", \"value\": 0.01}, {\"date\": \"2016-11\", \"variable\": \"japan_cpi\", \"value\": 0.05}, {\"date\": \"2016-12\", \"variable\": \"japan_cpi\", \"value\": 0.03}, {\"date\": \"2017-01\", \"variable\": \"japan_cpi\", \"value\": 0.04}, {\"date\": \"2017-02\", \"variable\": \"japan_cpi\", \"value\": 0.03}, {\"date\": \"2017-03\", \"variable\": \"japan_cpi\", \"value\": 0.02}, {\"date\": \"2017-04\", \"variable\": \"japan_cpi\", \"value\": 0.04}, {\"date\": \"2017-05\", \"variable\": \"japan_cpi\", \"value\": 0.04}, {\"date\": \"2017-06\", \"variable\": \"japan_cpi\", \"value\": 0.04}, {\"date\": \"2017-07\", \"variable\": \"japan_cpi\", \"value\": 0.04}, {\"date\": \"2017-08\", \"variable\": \"japan_cpi\", \"value\": 0.06999999999999999}, {\"date\": \"2017-09\", \"variable\": \"japan_cpi\", \"value\": 0.06999999999999999}, {\"date\": \"2017-10\", \"variable\": \"japan_cpi\", \"value\": 0.02}, {\"date\": \"2017-11\", \"variable\": \"japan_cpi\", \"value\": 0.06}, {\"date\": \"2017-12\", \"variable\": \"japan_cpi\", \"value\": 0.1}, {\"date\": \"2018-01\", \"variable\": \"japan_cpi\", \"value\": 0.13999999999999999}, {\"date\": \"2018-02\", \"variable\": \"japan_cpi\", \"value\": 0.15}, {\"date\": \"2018-03\", \"variable\": \"japan_cpi\", \"value\": 0.11000000000000001}, {\"date\": \"2018-04\", \"variable\": \"japan_cpi\", \"value\": 0.06}, {\"date\": \"2018-05\", \"variable\": \"japan_cpi\", \"value\": 0.06999999999999999}, {\"date\": \"2018-06\", \"variable\": \"japan_cpi\", \"value\": 0.06999999999999999}, {\"date\": \"2018-07\", \"variable\": \"japan_cpi\", \"value\": 0.09000000000000001}, {\"date\": \"2018-08\", \"variable\": \"japan_cpi\", \"value\": 0.13}, {\"date\": \"2018-09\", \"variable\": \"japan_cpi\", \"value\": 0.12}, {\"date\": \"2018-10\", \"variable\": \"japan_cpi\", \"value\": 0.13999999999999999}, {\"date\": \"2018-11\", \"variable\": \"japan_cpi\", \"value\": 0.08}, {\"date\": \"2018-12\", \"variable\": \"japan_cpi\", \"value\": 0.03}, {\"date\": \"2019-01\", \"variable\": \"japan_cpi\", \"value\": 0.02}, {\"date\": \"2019-02\", \"variable\": \"japan_cpi\", \"value\": 0.02}, {\"date\": \"2019-03\", \"variable\": \"japan_cpi\", \"value\": 0.05}, {\"date\": \"2019-04\", \"variable\": \"japan_cpi\", \"value\": 0.09000000000000001}, {\"date\": \"2019-05\", \"variable\": \"japan_cpi\", \"value\": 0.06999999999999999}, {\"date\": \"2019-06\", \"variable\": \"japan_cpi\", \"value\": 0.06999999999999999}, {\"date\": \"2019-07\", \"variable\": \"japan_cpi\", \"value\": 0.05}, {\"date\": \"2019-08\", \"variable\": \"japan_cpi\", \"value\": 0.03}, {\"date\": \"2019-09\", \"variable\": \"japan_cpi\", \"value\": 0.02}, {\"date\": \"2019-10\", \"variable\": \"japan_cpi\", \"value\": 0.02}, {\"date\": \"2019-11\", \"variable\": \"japan_cpi\", \"value\": 0.05}, {\"date\": \"2019-12\", \"variable\": \"japan_cpi\", \"value\": 0.08}, {\"date\": \"2020-01\", \"variable\": \"japan_cpi\", \"value\": 0.06999999999999999}, {\"date\": \"2020-02\", \"variable\": \"japan_cpi\", \"value\": 0.04}, {\"date\": \"2020-03\", \"variable\": \"japan_cpi\", \"value\": 0.04}, {\"date\": \"2020-04\", \"variable\": \"japan_cpi\", \"value\": 0.01}, {\"date\": \"2020-05\", \"variable\": \"japan_cpi\", \"value\": 0.01}, {\"date\": \"2020-06\", \"variable\": \"japan_cpi\", \"value\": 0.01}, {\"date\": \"2020-07\", \"variable\": \"japan_cpi\", \"value\": 0.03}, {\"date\": \"2020-08\", \"variable\": \"japan_cpi\", \"value\": 0.02}, {\"date\": \"2020-09\", \"variable\": \"japan_cpi\", \"value\": 0.0}, {\"date\": \"2020-10\", \"variable\": \"japan_cpi\", \"value\": -0.04}, {\"date\": \"2020-11\", \"variable\": \"japan_cpi\", \"value\": -0.09000000000000001}, {\"date\": \"2020-12\", \"variable\": \"japan_cpi\", \"value\": -0.12}, {\"date\": \"2021-01\", \"variable\": \"japan_cpi\", \"value\": -0.06999999999999999}, {\"date\": \"2021-02\", \"variable\": \"japan_cpi\", \"value\": -0.05}, {\"date\": \"2021-03\", \"variable\": \"japan_cpi\", \"value\": -0.04}, {\"date\": \"2021-04\", \"variable\": \"japan_cpi\", \"value\": -0.11000000000000001}, {\"date\": \"2021-05\", \"variable\": \"japan_cpi\", \"value\": -0.08}, {\"date\": \"2021-06\", \"variable\": \"japan_cpi\", \"value\": -0.05}, {\"date\": \"2010-01\", \"variable\": \"united_states_cpi\", \"value\": 0.2625709}, {\"date\": \"2010-02\", \"variable\": \"united_states_cpi\", \"value\": 0.2143332}, {\"date\": \"2010-03\", \"variable\": \"united_states_cpi\", \"value\": 0.23139590000000002}, {\"date\": \"2010-04\", \"variable\": \"united_states_cpi\", \"value\": 0.2236447}, {\"date\": \"2010-05\", \"variable\": \"united_states_cpi\", \"value\": 0.20209860000000002}, {\"date\": \"2010-06\", \"variable\": \"united_states_cpi\", \"value\": 0.1053349}, {\"date\": \"2010-07\", \"variable\": \"united_states_cpi\", \"value\": 0.1235193}, {\"date\": \"2010-08\", \"variable\": \"united_states_cpi\", \"value\": 0.1148105}, {\"date\": \"2010-09\", \"variable\": \"united_states_cpi\", \"value\": 0.1143683}, {\"date\": \"2010-10\", \"variable\": \"united_states_cpi\", \"value\": 0.11721880000000001}, {\"date\": \"2010-11\", \"variable\": \"united_states_cpi\", \"value\": 0.11431610000000002}, {\"date\": \"2010-12\", \"variable\": \"united_states_cpi\", \"value\": 0.1495723}, {\"date\": \"2011-01\", \"variable\": \"united_states_cpi\", \"value\": 0.1631847}, {\"date\": \"2011-02\", \"variable\": \"united_states_cpi\", \"value\": 0.21075849999999996}, {\"date\": \"2011-03\", \"variable\": \"united_states_cpi\", \"value\": 0.2681603}, {\"date\": \"2011-04\", \"variable\": \"united_states_cpi\", \"value\": 0.3163631}, {\"date\": \"2011-05\", \"variable\": \"united_states_cpi\", \"value\": 0.3568646}, {\"date\": \"2011-06\", \"variable\": \"united_states_cpi\", \"value\": 0.3558828}, {\"date\": \"2011-07\", \"variable\": \"united_states_cpi\", \"value\": 0.36287160000000007}, {\"date\": \"2011-08\", \"variable\": \"united_states_cpi\", \"value\": 0.37712080000000003}, {\"date\": \"2011-09\", \"variable\": \"united_states_cpi\", \"value\": 0.3868357}, {\"date\": \"2011-10\", \"variable\": \"united_states_cpi\", \"value\": 0.35252}, {\"date\": \"2011-11\", \"variable\": \"united_states_cpi\", \"value\": 0.3394378}, {\"date\": \"2011-12\", \"variable\": \"united_states_cpi\", \"value\": 0.2962419}, {\"date\": \"2012-01\", \"variable\": \"united_states_cpi\", \"value\": 0.2925217}, {\"date\": \"2012-02\", \"variable\": \"united_states_cpi\", \"value\": 0.28710990000000003}, {\"date\": \"2012-03\", \"variable\": \"united_states_cpi\", \"value\": 0.2651398}, {\"date\": \"2012-04\", \"variable\": \"united_states_cpi\", \"value\": 0.230274}, {\"date\": \"2012-05\", \"variable\": \"united_states_cpi\", \"value\": 0.1704254}, {\"date\": \"2012-06\", \"variable\": \"united_states_cpi\", \"value\": 0.16639939999999998}, {\"date\": \"2012-07\", \"variable\": \"united_states_cpi\", \"value\": 0.1408451}, {\"date\": \"2012-08\", \"variable\": \"united_states_cpi\", \"value\": 0.1692379}, {\"date\": \"2012-09\", \"variable\": \"united_states_cpi\", \"value\": 0.1991282}, {\"date\": \"2012-10\", \"variable\": \"united_states_cpi\", \"value\": 0.2162344}, {\"date\": \"2012-11\", \"variable\": \"united_states_cpi\", \"value\": 0.17641340000000003}, {\"date\": \"2012-12\", \"variable\": \"united_states_cpi\", \"value\": 0.1741022}, {\"date\": \"2013-01\", \"variable\": \"united_states_cpi\", \"value\": 0.15948649999999998}, {\"date\": \"2013-02\", \"variable\": \"united_states_cpi\", \"value\": 0.19779240000000003}, {\"date\": \"2013-03\", \"variable\": \"united_states_cpi\", \"value\": 0.14738959999999998}, {\"date\": \"2013-04\", \"variable\": \"united_states_cpi\", \"value\": 0.1063085}, {\"date\": \"2013-05\", \"variable\": \"united_states_cpi\", \"value\": 0.1361965}, {\"date\": \"2013-06\", \"variable\": \"united_states_cpi\", \"value\": 0.17544169999999998}, {\"date\": \"2013-07\", \"variable\": \"united_states_cpi\", \"value\": 0.1960682}, {\"date\": \"2013-08\", \"variable\": \"united_states_cpi\", \"value\": 0.1518368}, {\"date\": \"2013-09\", \"variable\": \"united_states_cpi\", \"value\": 0.1184925}, {\"date\": \"2013-10\", \"variable\": \"united_states_cpi\", \"value\": 0.09636127}, {\"date\": \"2013-11\", \"variable\": \"united_states_cpi\", \"value\": 0.1237072}, {\"date\": \"2013-12\", \"variable\": \"united_states_cpi\", \"value\": 0.15017360000000002}, {\"date\": \"2014-01\", \"variable\": \"united_states_cpi\", \"value\": 0.1578947}, {\"date\": \"2014-02\", \"variable\": \"united_states_cpi\", \"value\": 0.11263490000000001}, {\"date\": \"2014-03\", \"variable\": \"united_states_cpi\", \"value\": 0.1512203}, {\"date\": \"2014-04\", \"variable\": \"united_states_cpi\", \"value\": 0.19528580000000004}, {\"date\": \"2014-05\", \"variable\": \"united_states_cpi\", \"value\": 0.21271110000000004}, {\"date\": \"2014-06\", \"variable\": \"united_states_cpi\", \"value\": 0.20723409999999998}, {\"date\": \"2014-07\", \"variable\": \"united_states_cpi\", \"value\": 0.1992329}, {\"date\": \"2014-08\", \"variable\": \"united_states_cpi\", \"value\": 0.16996109999999998}, {\"date\": \"2014-09\", \"variable\": \"united_states_cpi\", \"value\": 0.1657919}, {\"date\": \"2014-10\", \"variable\": \"united_states_cpi\", \"value\": 0.16643400000000003}, {\"date\": \"2014-11\", \"variable\": \"united_states_cpi\", \"value\": 0.13223549999999998}, {\"date\": \"2014-12\", \"variable\": \"united_states_cpi\", \"value\": 0.07564933}, {\"date\": \"2015-01\", \"variable\": \"united_states_cpi\", \"value\": -0.008934832}, {\"date\": \"2015-02\", \"variable\": \"united_states_cpi\", \"value\": -0.00251298}, {\"date\": \"2015-03\", \"variable\": \"united_states_cpi\", \"value\": -0.007363739}, {\"date\": \"2015-04\", \"variable\": \"united_states_cpi\", \"value\": -0.019951740000000003}, {\"date\": \"2015-05\", \"variable\": \"united_states_cpi\", \"value\": -0.003993275000000001}, {\"date\": \"2015-06\", \"variable\": \"united_states_cpi\", \"value\": 0.01237712}, {\"date\": \"2015-07\", \"variable\": \"united_states_cpi\", \"value\": 0.016956979999999997}, {\"date\": \"2015-08\", \"variable\": \"united_states_cpi\", \"value\": 0.01950793}, {\"date\": \"2015-09\", \"variable\": \"united_states_cpi\", \"value\": -0.003612975}, {\"date\": \"2015-10\", \"variable\": \"united_states_cpi\", \"value\": 0.01705744}, {\"date\": \"2015-11\", \"variable\": \"united_states_cpi\", \"value\": 0.05017976}, {\"date\": \"2015-12\", \"variable\": \"united_states_cpi\", \"value\": 0.07295198}, {\"date\": \"2016-01\", \"variable\": \"united_states_cpi\", \"value\": 0.1373087}, {\"date\": \"2016-02\", \"variable\": \"united_states_cpi\", \"value\": 0.10178}, {\"date\": \"2016-03\", \"variable\": \"united_states_cpi\", \"value\": 0.08525362}, {\"date\": \"2016-04\", \"variable\": \"united_states_cpi\", \"value\": 0.112511}, {\"date\": \"2016-05\", \"variable\": \"united_states_cpi\", \"value\": 0.10193229999999999}, {\"date\": \"2016-06\", \"variable\": \"united_states_cpi\", \"value\": 0.09973264999999998}, {\"date\": \"2016-07\", \"variable\": \"united_states_cpi\", \"value\": 0.08271388000000002}, {\"date\": \"2016-08\", \"variable\": \"united_states_cpi\", \"value\": 0.1062875}, {\"date\": \"2016-09\", \"variable\": \"united_states_cpi\", \"value\": 0.1463784}, {\"date\": \"2016-10\", \"variable\": \"united_states_cpi\", \"value\": 0.1635988}, {\"date\": \"2016-11\", \"variable\": \"united_states_cpi\", \"value\": 0.16925369999999998}, {\"date\": \"2016-12\", \"variable\": \"united_states_cpi\", \"value\": 0.20746220000000004}, {\"date\": \"2017-01\", \"variable\": \"united_states_cpi\", \"value\": 0.25000419999999995}, {\"date\": \"2017-02\", \"variable\": \"united_states_cpi\", \"value\": 0.27379580000000003}, {\"date\": \"2017-03\", \"variable\": \"united_states_cpi\", \"value\": 0.23806119999999997}, {\"date\": \"2017-04\", \"variable\": \"united_states_cpi\", \"value\": 0.21996900000000003}, {\"date\": \"2017-05\", \"variable\": \"united_states_cpi\", \"value\": 0.18748779999999998}, {\"date\": \"2017-06\", \"variable\": \"united_states_cpi\", \"value\": 0.1633488}, {\"date\": \"2017-07\", \"variable\": \"united_states_cpi\", \"value\": 0.17279779999999997}, {\"date\": \"2017-08\", \"variable\": \"united_states_cpi\", \"value\": 0.19389740000000003}, {\"date\": \"2017-09\", \"variable\": \"united_states_cpi\", \"value\": 0.22329639999999998}, {\"date\": \"2017-10\", \"variable\": \"united_states_cpi\", \"value\": 0.2041129}, {\"date\": \"2017-11\", \"variable\": \"united_states_cpi\", \"value\": 0.22025830000000002}, {\"date\": \"2017-12\", \"variable\": \"united_states_cpi\", \"value\": 0.2109082}, {\"date\": \"2018-01\", \"variable\": \"united_states_cpi\", \"value\": 0.2070508}, {\"date\": \"2018-02\", \"variable\": \"united_states_cpi\", \"value\": 0.2211795}, {\"date\": \"2018-03\", \"variable\": \"united_states_cpi\", \"value\": 0.2359711}, {\"date\": \"2018-04\", \"variable\": \"united_states_cpi\", \"value\": 0.24627439999999998}, {\"date\": \"2018-05\", \"variable\": \"united_states_cpi\", \"value\": 0.2801012}, {\"date\": \"2018-06\", \"variable\": \"united_states_cpi\", \"value\": 0.2871548}, {\"date\": \"2018-07\", \"variable\": \"united_states_cpi\", \"value\": 0.29495150000000003}, {\"date\": \"2018-08\", \"variable\": \"united_states_cpi\", \"value\": 0.269918}, {\"date\": \"2018-09\", \"variable\": \"united_states_cpi\", \"value\": 0.22769720000000004}, {\"date\": \"2018-10\", \"variable\": \"united_states_cpi\", \"value\": 0.252247}, {\"date\": \"2018-11\", \"variable\": \"united_states_cpi\", \"value\": 0.2176601}, {\"date\": \"2018-12\", \"variable\": \"united_states_cpi\", \"value\": 0.1910159}, {\"date\": \"2019-01\", \"variable\": \"united_states_cpi\", \"value\": 0.15512350000000003}, {\"date\": \"2019-02\", \"variable\": \"united_states_cpi\", \"value\": 0.1520135}, {\"date\": \"2019-03\", \"variable\": \"united_states_cpi\", \"value\": 0.18625229999999998}, {\"date\": \"2019-04\", \"variable\": \"united_states_cpi\", \"value\": 0.19964400000000004}, {\"date\": \"2019-05\", \"variable\": \"united_states_cpi\", \"value\": 0.17902279999999998}, {\"date\": \"2019-06\", \"variable\": \"united_states_cpi\", \"value\": 0.16484849999999998}, {\"date\": \"2019-07\", \"variable\": \"united_states_cpi\", \"value\": 0.1811465}, {\"date\": \"2019-08\", \"variable\": \"united_states_cpi\", \"value\": 0.17497799999999997}, {\"date\": \"2019-09\", \"variable\": \"united_states_cpi\", \"value\": 0.17113049999999996}, {\"date\": \"2019-10\", \"variable\": \"united_states_cpi\", \"value\": 0.17640429999999999}, {\"date\": \"2019-11\", \"variable\": \"united_states_cpi\", \"value\": 0.20512779999999997}, {\"date\": \"2019-12\", \"variable\": \"united_states_cpi\", \"value\": 0.22851300000000002}, {\"date\": \"2020-01\", \"variable\": \"united_states_cpi\", \"value\": 0.24865720000000002}, {\"date\": \"2020-02\", \"variable\": \"united_states_cpi\", \"value\": 0.2334874}, {\"date\": \"2020-03\", \"variable\": \"united_states_cpi\", \"value\": 0.1539327}, {\"date\": \"2020-04\", \"variable\": \"united_states_cpi\", \"value\": 0.03290967}, {\"date\": \"2020-05\", \"variable\": \"united_states_cpi\", \"value\": 0.01179264}, {\"date\": \"2020-06\", \"variable\": \"united_states_cpi\", \"value\": 0.06457331}, {\"date\": \"2020-07\", \"variable\": \"united_states_cpi\", \"value\": 0.09860818}, {\"date\": \"2020-08\", \"variable\": \"united_states_cpi\", \"value\": 0.13096450000000004}, {\"date\": \"2020-09\", \"variable\": \"united_states_cpi\", \"value\": 0.1371325}, {\"date\": \"2020-10\", \"variable\": \"united_states_cpi\", \"value\": 0.1182066}, {\"date\": \"2020-11\", \"variable\": \"united_states_cpi\", \"value\": 0.11745359999999999}, {\"date\": \"2020-12\", \"variable\": \"united_states_cpi\", \"value\": 0.1362005}, {\"date\": \"2021-01\", \"variable\": \"united_states_cpi\", \"value\": 0.13997700000000002}, {\"date\": \"2021-02\", \"variable\": \"united_states_cpi\", \"value\": 0.16762150000000003}, {\"date\": \"2021-03\", \"variable\": \"united_states_cpi\", \"value\": 0.2619762}, {\"date\": \"2021-04\", \"variable\": \"united_states_cpi\", \"value\": 0.4159695}, {\"date\": \"2021-05\", \"variable\": \"united_states_cpi\", \"value\": 0.49927070000000007}, {\"date\": \"2021-06\", \"variable\": \"united_states_cpi\", \"value\": 0.5391451}]}}, {\"mode\": \"vega-lite\"});\n",
       "</script>"
      ],
      "text/plain": [
       "alt.Chart(...)"
      ]
     },
     "execution_count": 292,
     "metadata": {},
     "output_type": "execute_result"
    }
   ],
   "source": [
    "alt.data_transformers.disable_max_rows()\n",
    "#cols = cs.expand_selector(df, cs.matches(\"^.*cpi$\") | cs.by_name(\"commodity_DCOILWTICO\").pct_change())\n",
    "df.with_columns(\n",
    "    cs.matches(\"^.*cpi$\").mul(10), cs.by_name(\"price_DCOILWTICO\").pct_change()\n",
    ").unpivot(\n",
    "    index='date', on=cs.matches(\"^.*cpi|price_DCOILWTICO$\")\n",
    ").plot.line(x='date', y='value', color='variable').properties(width=1000, title=\"\")\n",
    "#df.unpivot(index='date', on=pl.col.commodity_DCOILWTICO.pct_change())#.plot.line(x='date', y='value', color='variable').properties(width=700, title=\"\")"
   ]
  },
  {
   "cell_type": "code",
   "execution_count": 293,
   "metadata": {},
   "outputs": [
    {
     "name": "stdout",
     "output_type": "stream",
     "text": [
      "LAG: 2\n",
      "Effective TE: 0.053505 bits\n",
      "TE: 0.185250 bits\n",
      "p_value 0.02\n",
      "LAG: 3\n",
      "Effective TE: 0.037515 bits\n",
      "TE: 0.190847 bits\n",
      "p_value 0.01\n",
      "LAG: 7\n",
      "Effective TE: 0.082950 bits\n",
      "TE: 0.201317 bits\n",
      "p_value 0.0\n"
     ]
    }
   ],
   "source": [
    "X = df.get_column('price_DCOILWTICO').pct_change().fill_null(0.0)\n",
    "y = df.get_column('france_cpi').to_numpy().reshape(-1)\n",
    "kwargs = dict(approach=\"ordinal\", embedding_dim=3, base=2)\n",
    "for lag in range(0, 12):  # maximum a year\n",
    "    est = im.estimator(X, y, measure='te', prop_time=lag, **kwargs)\n",
    "    # Calculate effective transfer entropy\n",
    "    #print(est.result())\n",
    "\n",
    "    # Perform statistical testing\n",
    "    te = est.result() / im.entropy(y, **kwargs) # normalized TE\n",
    "    stat_test = est.statistical_test(n_tests=100, method=\"permutation_test\")\n",
    "    if te > 0.1 and stat_test.p_value < .1:\n",
    "        print(f'LAG: {lag}')\n",
    "        effective_te = est.effective_val() / im.entropy(y, **kwargs)\n",
    "        print(f\"Effective TE: {effective_te:.6f} bits\")\n",
    "        print(f\"TE: {te:.6f} bits\")\n",
    "        print(\"p_value\", stat_test.p_value)\n",
    "    #print(f\"90% CI: {stat_test.confidence_interval(0.9)}\")\n",
    "    \n"
   ]
  },
  {
   "cell_type": "markdown",
   "metadata": {},
   "source": [
    "### we see the 3 months and 6 months dependencies emerging "
   ]
  },
  {
   "cell_type": "markdown",
   "metadata": {},
   "source": [
    "## TODO : optimal alignement algorithm\n",
    "- we want to find a vector of positive lags maximizing TE (with p_value < 0.05)\n",
    "- we also want to control overfitting\n",
    "\n",
    "we can leverage the MDL framework for this : \n",
    " - what is the size of data D given the model ? This is TEx->y | M; i.e the the transfer entropy of X aligned with the vector of lags and y\n",
    " - what is the size of the model itself ?\n",
    "    1. `alignment.rle_id().entropy()` (kudos to data engineering) will reward aligment will long blocks of consecutive values (intuitively it's good to have a lag that's constant for a long time) + this allows comparison with the \"fix-lag model\"\n",
    "        - question here : perhaps we want to consider `alignment.pct_change().rle_id().entropy()` to avoid penalizing linearly decreasing/increaseing blocks that points to a single shock from x leading to values in y \n",
    "    2. `aligment.entropy()` will reward alignments with a lower cardinality\n",
    "    - both 1. and 2. control for the model complexity\n",
    "  \n",
    " - a good model is a model that maximizes TE on the data while minimizing entropies on the alignment vector\n",
    " - with this model we can trigger early stopping and quickly discard overly complex models\n",
    "\n",
    "How do we generate candidates to be submitted to MDL ?\n",
    " - genetic algorithms with gaussian noise ?\n",
    " - bisection\n"
   ]
  },
  {
   "cell_type": "markdown",
   "metadata": {},
   "source": [
    "## research question\n",
    "is this optimal alignment, computed without accounting for confounders, sufficient to move on to causal inference which requires confounders ?"
   ]
  },
  {
   "cell_type": "code",
   "execution_count": null,
   "metadata": {},
   "outputs": [],
   "source": []
  }
 ],
 "metadata": {
  "kernelspec": {
   "display_name": "uw",
   "language": "python",
   "name": "python3"
  },
  "language_info": {
   "codemirror_mode": {
    "name": "ipython",
    "version": 3
   },
   "file_extension": ".py",
   "mimetype": "text/x-python",
   "name": "python",
   "nbconvert_exporter": "python",
   "pygments_lexer": "ipython3",
   "version": "3.10.18"
  }
 },
 "nbformat": 4,
 "nbformat_minor": 2
}
